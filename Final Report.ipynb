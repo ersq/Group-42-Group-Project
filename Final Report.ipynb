{
 "cells": [
  {
   "cell_type": "markdown",
   "id": "a793ded3-5b73-48bf-82be-5411d504381c",
   "metadata": {},
   "source": [
    "### **Yuang Chen, Siraaj Singh Monga, Ella Ren, Greg Satchell Jr**"
   ]
  },
  {
   "cell_type": "code",
   "execution_count": 28,
   "id": "f72d8642-b5ae-418e-a7c8-fc4b1b74e208",
   "metadata": {
    "tags": []
   },
   "outputs": [],
   "source": [
    "library(tidyverse)\n",
    "library(repr)\n",
    "library(tidymodels)\n",
    "options(repr.matrix.max.rows = 8)\n"
   ]
  },
  {
   "cell_type": "markdown",
   "id": "52c4d608-21f1-40d1-bd50-3420502c92c1",
   "metadata": {},
   "source": [
    "## **Predicting the Chances of a Stroke Report**"
   ]
  },
  {
   "cell_type": "markdown",
   "id": "0ab304aa-a416-4cf2-a27a-dcd2f0a451eb",
   "metadata": {},
   "source": [
    "### **Introduction:**\n",
    "\n",
    "Strokes, often referred to as brain attacks, occur when blood clots block the blood supply to part of the brain (ischemic stroke). They can also occur when blood vessels in the brain burst (hemorrhagic stroke). It is imperative that strokes are met with immediate treatment to prevent brain damage and death. Strokes remain the second leading cause of death and cause a majority of disabilities worldwide (Katan & Luft, 2018). Here in Canada, strokes have risen to an occurrence rate of 108,707 per year - or roughly one every five minutes (Stroke in Canada is on the rise, 2022).\n",
    "\n",
    "With this in mind, our research question is the following: How effective are the variables age, bmi, and avg_glucose_level at correctly predicting whether or not an individual is at risk of suffering a stroke? We intend on creating a classification model that will address the predictive research question above.\n",
    "\n",
    "Stroke Prediction Dataset, the title of the dataset we chose for this project, was adapted from the Kaggle data scientist fedesoriano. The dataset provides ten clinical features/variables for predicting strokes: gender, age, hypertension, heart_disease, ever_married, work_type, residence_type, avg_glucose_level, bmi, and smoking_status. We will only be using three out of the ten variables as we believe these are the most important factors when determining a chance of stroke. The link to the dataset can be found in the references tab.\n"
   ]
  },
  {
   "cell_type": "markdown",
   "id": "bedb8b0b-bb90-4d62-b5eb-d55eca67b1f5",
   "metadata": {},
   "source": [
    "### **Methods & Results:**\n",
    "\n",
    "We will first standardize the numerical variables and convert the categorized variables to numerical values so that we can quantify their effect on the prediction result and makes all of the variables contribute equally to the outcome. \n",
    "\n",
    "Then we will split the database into two parts: the training set and the testing set by the ratio of 3:1. We also need to make sure that the two parts of the database have approximately the same percentage of different types of variables.\n",
    "\n",
    "Next, we will split the training set into 5 folds to apply cross-validation to choose the most suitable k-value with the highest accuracy. We will determing the k-value with the highest accuracy by using a visualization. It'll be a geom_point and geom_line graph that plots Neighbors on the x-axis and Accuracy Estimate on the y-axis.\n",
    "\n",
    "Finally, we will train the model again using the k-value determined and the testing set to evaluate the accuracy by a confusion matrix.\n",
    "In terms of visualizing the data, we will plot the data on a bar plot where the x-axis is age and the y-axis is whether or not the prediction is correct to measure our result visually. \n",
    "\n"
   ]
  },
  {
   "cell_type": "code",
   "execution_count": 29,
   "id": "2b227fe1-45e2-49c2-a8a5-fa861f67fdf7",
   "metadata": {
    "tags": []
   },
   "outputs": [
    {
     "name": "stderr",
     "output_type": "stream",
     "text": [
      "\u001b[1mRows: \u001b[22m\u001b[34m5110\u001b[39m \u001b[1mColumns: \u001b[22m\u001b[34m12\u001b[39m\n",
      "\u001b[36m──\u001b[39m \u001b[1mColumn specification\u001b[22m \u001b[36m────────────────────────────────────────────────────────\u001b[39m\n",
      "\u001b[1mDelimiter:\u001b[22m \",\"\n",
      "\u001b[31mchr\u001b[39m (6): gender, ever_married, work_type, Residence_type, bmi, smoking_status\n",
      "\u001b[32mdbl\u001b[39m (6): id, age, hypertension, heart_disease, avg_glucose_level, stroke\n",
      "\n",
      "\u001b[36mℹ\u001b[39m Use `spec()` to retrieve the full column specification for this data.\n",
      "\u001b[36mℹ\u001b[39m Specify the column types or set `show_col_types = FALSE` to quiet this message.\n"
     ]
    },
    {
     "data": {
      "text/html": [
       "<table class=\"dataframe\">\n",
       "<caption>A tibble: 3681 × 12</caption>\n",
       "<thead>\n",
       "\t<tr><th scope=col>id</th><th scope=col>gender</th><th scope=col>age</th><th scope=col>hypertension</th><th scope=col>heart_disease</th><th scope=col>ever_married</th><th scope=col>work_type</th><th scope=col>Residence_type</th><th scope=col>avg_glucose_level</th><th scope=col>bmi</th><th scope=col>smoking_status</th><th scope=col>stroke</th></tr>\n",
       "\t<tr><th scope=col>&lt;dbl&gt;</th><th scope=col>&lt;chr&gt;</th><th scope=col>&lt;dbl&gt;</th><th scope=col>&lt;dbl&gt;</th><th scope=col>&lt;dbl&gt;</th><th scope=col>&lt;chr&gt;</th><th scope=col>&lt;chr&gt;</th><th scope=col>&lt;chr&gt;</th><th scope=col>&lt;dbl&gt;</th><th scope=col>&lt;dbl&gt;</th><th scope=col>&lt;chr&gt;</th><th scope=col>&lt;dbl&gt;</th></tr>\n",
       "</thead>\n",
       "<tbody>\n",
       "\t<tr><td> 9046</td><td>Male  </td><td>67</td><td>0</td><td>1</td><td>Yes</td><td>Private      </td><td>Urban</td><td>228.69</td><td>36.6</td><td>formerly smoked</td><td>1</td></tr>\n",
       "\t<tr><td>31112</td><td>Male  </td><td>80</td><td>0</td><td>1</td><td>Yes</td><td>Private      </td><td>Rural</td><td>105.92</td><td>32.5</td><td>never smoked   </td><td>1</td></tr>\n",
       "\t<tr><td>60182</td><td>Female</td><td>49</td><td>0</td><td>0</td><td>Yes</td><td>Private      </td><td>Urban</td><td>171.23</td><td>34.4</td><td>smokes         </td><td>1</td></tr>\n",
       "\t<tr><td> 1665</td><td>Female</td><td>79</td><td>1</td><td>0</td><td>Yes</td><td>Self-employed</td><td>Rural</td><td>174.12</td><td>24.0</td><td>never smoked   </td><td>1</td></tr>\n",
       "\t<tr><td>⋮</td><td>⋮</td><td>⋮</td><td>⋮</td><td>⋮</td><td>⋮</td><td>⋮</td><td>⋮</td><td>⋮</td><td>⋮</td><td>⋮</td><td>⋮</td></tr>\n",
       "\t<tr><td>22127</td><td>Female</td><td>18</td><td>0</td><td>0</td><td>No </td><td>Private      </td><td>Urban</td><td> 82.85</td><td>46.9</td><td>Unknown     </td><td>0</td></tr>\n",
       "\t<tr><td>14180</td><td>Female</td><td>13</td><td>0</td><td>0</td><td>No </td><td>children     </td><td>Rural</td><td>103.08</td><td>18.6</td><td>Unknown     </td><td>0</td></tr>\n",
       "\t<tr><td>19723</td><td>Female</td><td>35</td><td>0</td><td>0</td><td>Yes</td><td>Self-employed</td><td>Rural</td><td> 82.99</td><td>30.6</td><td>never smoked</td><td>0</td></tr>\n",
       "\t<tr><td>44679</td><td>Female</td><td>44</td><td>0</td><td>0</td><td>Yes</td><td>Govt_job     </td><td>Urban</td><td> 85.28</td><td>26.2</td><td>Unknown     </td><td>0</td></tr>\n",
       "</tbody>\n",
       "</table>\n"
      ],
      "text/latex": [
       "A tibble: 3681 × 12\n",
       "\\begin{tabular}{llllllllllll}\n",
       " id & gender & age & hypertension & heart\\_disease & ever\\_married & work\\_type & Residence\\_type & avg\\_glucose\\_level & bmi & smoking\\_status & stroke\\\\\n",
       " <dbl> & <chr> & <dbl> & <dbl> & <dbl> & <chr> & <chr> & <chr> & <dbl> & <dbl> & <chr> & <dbl>\\\\\n",
       "\\hline\n",
       "\t  9046 & Male   & 67 & 0 & 1 & Yes & Private       & Urban & 228.69 & 36.6 & formerly smoked & 1\\\\\n",
       "\t 31112 & Male   & 80 & 0 & 1 & Yes & Private       & Rural & 105.92 & 32.5 & never smoked    & 1\\\\\n",
       "\t 60182 & Female & 49 & 0 & 0 & Yes & Private       & Urban & 171.23 & 34.4 & smokes          & 1\\\\\n",
       "\t  1665 & Female & 79 & 1 & 0 & Yes & Self-employed & Rural & 174.12 & 24.0 & never smoked    & 1\\\\\n",
       "\t ⋮ & ⋮ & ⋮ & ⋮ & ⋮ & ⋮ & ⋮ & ⋮ & ⋮ & ⋮ & ⋮ & ⋮\\\\\n",
       "\t 22127 & Female & 18 & 0 & 0 & No  & Private       & Urban &  82.85 & 46.9 & Unknown      & 0\\\\\n",
       "\t 14180 & Female & 13 & 0 & 0 & No  & children      & Rural & 103.08 & 18.6 & Unknown      & 0\\\\\n",
       "\t 19723 & Female & 35 & 0 & 0 & Yes & Self-employed & Rural &  82.99 & 30.6 & never smoked & 0\\\\\n",
       "\t 44679 & Female & 44 & 0 & 0 & Yes & Govt\\_job      & Urban &  85.28 & 26.2 & Unknown      & 0\\\\\n",
       "\\end{tabular}\n"
      ],
      "text/markdown": [
       "\n",
       "A tibble: 3681 × 12\n",
       "\n",
       "| id &lt;dbl&gt; | gender &lt;chr&gt; | age &lt;dbl&gt; | hypertension &lt;dbl&gt; | heart_disease &lt;dbl&gt; | ever_married &lt;chr&gt; | work_type &lt;chr&gt; | Residence_type &lt;chr&gt; | avg_glucose_level &lt;dbl&gt; | bmi &lt;dbl&gt; | smoking_status &lt;chr&gt; | stroke &lt;dbl&gt; |\n",
       "|---|---|---|---|---|---|---|---|---|---|---|---|\n",
       "|  9046 | Male   | 67 | 0 | 1 | Yes | Private       | Urban | 228.69 | 36.6 | formerly smoked | 1 |\n",
       "| 31112 | Male   | 80 | 0 | 1 | Yes | Private       | Rural | 105.92 | 32.5 | never smoked    | 1 |\n",
       "| 60182 | Female | 49 | 0 | 0 | Yes | Private       | Urban | 171.23 | 34.4 | smokes          | 1 |\n",
       "|  1665 | Female | 79 | 1 | 0 | Yes | Self-employed | Rural | 174.12 | 24.0 | never smoked    | 1 |\n",
       "| ⋮ | ⋮ | ⋮ | ⋮ | ⋮ | ⋮ | ⋮ | ⋮ | ⋮ | ⋮ | ⋮ | ⋮ |\n",
       "| 22127 | Female | 18 | 0 | 0 | No  | Private       | Urban |  82.85 | 46.9 | Unknown      | 0 |\n",
       "| 14180 | Female | 13 | 0 | 0 | No  | children      | Rural | 103.08 | 18.6 | Unknown      | 0 |\n",
       "| 19723 | Female | 35 | 0 | 0 | Yes | Self-employed | Rural |  82.99 | 30.6 | never smoked | 0 |\n",
       "| 44679 | Female | 44 | 0 | 0 | Yes | Govt_job      | Urban |  85.28 | 26.2 | Unknown      | 0 |\n",
       "\n"
      ],
      "text/plain": [
       "     id    gender age hypertension heart_disease ever_married work_type    \n",
       "1     9046 Male   67  0            1             Yes          Private      \n",
       "2    31112 Male   80  0            1             Yes          Private      \n",
       "3    60182 Female 49  0            0             Yes          Private      \n",
       "4     1665 Female 79  1            0             Yes          Self-employed\n",
       "⋮    ⋮     ⋮      ⋮   ⋮            ⋮             ⋮            ⋮            \n",
       "3678 22127 Female 18  0            0             No           Private      \n",
       "3679 14180 Female 13  0            0             No           children     \n",
       "3680 19723 Female 35  0            0             Yes          Self-employed\n",
       "3681 44679 Female 44  0            0             Yes          Govt_job     \n",
       "     Residence_type avg_glucose_level bmi  smoking_status  stroke\n",
       "1    Urban          228.69            36.6 formerly smoked 1     \n",
       "2    Rural          105.92            32.5 never smoked    1     \n",
       "3    Urban          171.23            34.4 smokes          1     \n",
       "4    Rural          174.12            24.0 never smoked    1     \n",
       "⋮    ⋮              ⋮                 ⋮    ⋮               ⋮     \n",
       "3678 Urban           82.85            46.9 Unknown         0     \n",
       "3679 Rural          103.08            18.6 Unknown         0     \n",
       "3680 Rural           82.99            30.6 never smoked    0     \n",
       "3681 Urban           85.28            26.2 Unknown         0     "
      ]
     },
     "metadata": {},
     "output_type": "display_data"
    }
   ],
   "source": [
    "#ensures reproducibility\n",
    "set.seed(1234)\n",
    "\n",
    "#reading dataset into R\n",
    "url <- \"https://raw.githubusercontent.com/ersq/Group-42-Group-Project/main/healthcare-dataset-stroke-data.csv\"\n",
    "stroke_data <- read_csv(url) |>\n",
    "\n",
    "#removes N/A values in bmi column\n",
    "#3832 - 3687 = 145 rows that have missing data in bmi column\n",
    "filter(bmi != \"N/A\") |>\n",
    "\n",
    "#turns bmi column into dbl (previously chr)\n",
    "mutate(bmi = as.numeric(bmi))\n",
    "\n",
    "#splits data into training and testing sets\n",
    "stroke_split <- initial_split(stroke_data, prop = 0.75, strata = stroke) \n",
    "    stroke_train <- training(stroke_split)\n",
    "    stroke_test <- testing(stroke_split)\n",
    "\n",
    "stroke_train\n",
    "   \n"
   ]
  },
  {
   "cell_type": "code",
   "execution_count": 33,
   "id": "3553f5b5-8c5b-4642-b753-4d707243dd6b",
   "metadata": {},
   "outputs": [
    {
     "data": {
      "text/html": [
       "<table class=\"dataframe\">\n",
       "<caption>A tibble: 2 × 2</caption>\n",
       "<thead>\n",
       "\t<tr><th scope=col>stroke</th><th scope=col>avg_gluc</th></tr>\n",
       "\t<tr><th scope=col>&lt;dbl&gt;</th><th scope=col>&lt;dbl&gt;</th></tr>\n",
       "</thead>\n",
       "<tbody>\n",
       "\t<tr><td>0</td><td>104.0971</td></tr>\n",
       "\t<tr><td>1</td><td>130.2590</td></tr>\n",
       "</tbody>\n",
       "</table>\n"
      ],
      "text/latex": [
       "A tibble: 2 × 2\n",
       "\\begin{tabular}{ll}\n",
       " stroke & avg\\_gluc\\\\\n",
       " <dbl> & <dbl>\\\\\n",
       "\\hline\n",
       "\t 0 & 104.0971\\\\\n",
       "\t 1 & 130.2590\\\\\n",
       "\\end{tabular}\n"
      ],
      "text/markdown": [
       "\n",
       "A tibble: 2 × 2\n",
       "\n",
       "| stroke &lt;dbl&gt; | avg_gluc &lt;dbl&gt; |\n",
       "|---|---|\n",
       "| 0 | 104.0971 |\n",
       "| 1 | 130.2590 |\n",
       "\n"
      ],
      "text/plain": [
       "  stroke avg_gluc\n",
       "1 0      104.0971\n",
       "2 1      130.2590"
      ]
     },
     "metadata": {},
     "output_type": "display_data"
    },
    {
     "data": {
      "text/html": [
       "44.2794708809769"
      ],
      "text/latex": [
       "44.2794708809769"
      ],
      "text/markdown": [
       "44.2794708809769"
      ],
      "text/plain": [
       "[1] 44.27947"
      ]
     },
     "metadata": {},
     "output_type": "display_data"
    },
    {
     "data": {
      "text/html": [
       "<table class=\"dataframe\">\n",
       "<caption>A tibble: 2 × 2</caption>\n",
       "<thead>\n",
       "\t<tr><th scope=col>stroke</th><th scope=col>avg_BMI</th></tr>\n",
       "\t<tr><th scope=col>&lt;dbl&gt;</th><th scope=col>&lt;dbl&gt;</th></tr>\n",
       "</thead>\n",
       "<tbody>\n",
       "\t<tr><td>0</td><td>28.83380</td></tr>\n",
       "\t<tr><td>1</td><td>30.32349</td></tr>\n",
       "</tbody>\n",
       "</table>\n"
      ],
      "text/latex": [
       "A tibble: 2 × 2\n",
       "\\begin{tabular}{ll}\n",
       " stroke & avg\\_BMI\\\\\n",
       " <dbl> & <dbl>\\\\\n",
       "\\hline\n",
       "\t 0 & 28.83380\\\\\n",
       "\t 1 & 30.32349\\\\\n",
       "\\end{tabular}\n"
      ],
      "text/markdown": [
       "\n",
       "A tibble: 2 × 2\n",
       "\n",
       "| stroke &lt;dbl&gt; | avg_BMI &lt;dbl&gt; |\n",
       "|---|---|\n",
       "| 0 | 28.83380 |\n",
       "| 1 | 30.32349 |\n",
       "\n"
      ],
      "text/plain": [
       "  stroke avg_BMI \n",
       "1 0      28.83380\n",
       "2 1      30.32349"
      ]
     },
     "metadata": {},
     "output_type": "display_data"
    },
    {
     "data": {
      "text/html": [
       "7.93614626386929"
      ],
      "text/latex": [
       "7.93614626386929"
      ],
      "text/markdown": [
       "7.93614626386929"
      ],
      "text/plain": [
       "[1] 7.936146"
      ]
     },
     "metadata": {},
     "output_type": "display_data"
    },
    {
     "data": {
      "text/html": [
       "<table class=\"dataframe\">\n",
       "<caption>A tibble: 2 × 2</caption>\n",
       "<thead>\n",
       "\t<tr><th scope=col>stroke</th><th scope=col>avg_age</th></tr>\n",
       "\t<tr><th scope=col>&lt;dbl&gt;</th><th scope=col>&lt;dbl&gt;</th></tr>\n",
       "</thead>\n",
       "<tbody>\n",
       "\t<tr><td>0</td><td>41.89763</td></tr>\n",
       "\t<tr><td>1</td><td>67.56627</td></tr>\n",
       "</tbody>\n",
       "</table>\n"
      ],
      "text/latex": [
       "A tibble: 2 × 2\n",
       "\\begin{tabular}{ll}\n",
       " stroke & avg\\_age\\\\\n",
       " <dbl> & <dbl>\\\\\n",
       "\\hline\n",
       "\t 0 & 41.89763\\\\\n",
       "\t 1 & 67.56627\\\\\n",
       "\\end{tabular}\n"
      ],
      "text/markdown": [
       "\n",
       "A tibble: 2 × 2\n",
       "\n",
       "| stroke &lt;dbl&gt; | avg_age &lt;dbl&gt; |\n",
       "|---|---|\n",
       "| 0 | 41.89763 |\n",
       "| 1 | 67.56627 |\n",
       "\n"
      ],
      "text/plain": [
       "  stroke avg_age \n",
       "1 0      41.89763\n",
       "2 1      67.56627"
      ]
     },
     "metadata": {},
     "output_type": "display_data"
    },
    {
     "data": {
      "text/html": [
       "22.494058433441"
      ],
      "text/latex": [
       "22.494058433441"
      ],
      "text/markdown": [
       "22.494058433441"
      ],
      "text/plain": [
       "[1] 22.49406"
      ]
     },
     "metadata": {},
     "output_type": "display_data"
    },
    {
     "name": "stderr",
     "output_type": "stream",
     "text": [
      "\u001b[1m\u001b[22m`summarise()` has grouped output by 'stroke'. You can override using the\n",
      "`.groups` argument.\n"
     ]
    },
    {
     "data": {
      "text/html": [
       "<table class=\"dataframe\">\n",
       "<caption>A grouped_df: 8 × 3</caption>\n",
       "<thead>\n",
       "\t<tr><th scope=col>stroke</th><th scope=col>smoking_status</th><th scope=col>number_of_people</th></tr>\n",
       "\t<tr><th scope=col>&lt;dbl&gt;</th><th scope=col>&lt;chr&gt;</th><th scope=col>&lt;int&gt;</th></tr>\n",
       "</thead>\n",
       "<tbody>\n",
       "\t<tr><td>0</td><td>formerly smoked</td><td> 570</td></tr>\n",
       "\t<tr><td>0</td><td>never smoked   </td><td>1338</td></tr>\n",
       "\t<tr><td>0</td><td>smokes         </td><td> 527</td></tr>\n",
       "\t<tr><td>0</td><td>Unknown        </td><td>1080</td></tr>\n",
       "\t<tr><td>1</td><td>formerly smoked</td><td>  46</td></tr>\n",
       "\t<tr><td>1</td><td>never smoked   </td><td>  65</td></tr>\n",
       "\t<tr><td>1</td><td>smokes         </td><td>  31</td></tr>\n",
       "\t<tr><td>1</td><td>Unknown        </td><td>  24</td></tr>\n",
       "</tbody>\n",
       "</table>\n"
      ],
      "text/latex": [
       "A grouped\\_df: 8 × 3\n",
       "\\begin{tabular}{lll}\n",
       " stroke & smoking\\_status & number\\_of\\_people\\\\\n",
       " <dbl> & <chr> & <int>\\\\\n",
       "\\hline\n",
       "\t 0 & formerly smoked &  570\\\\\n",
       "\t 0 & never smoked    & 1338\\\\\n",
       "\t 0 & smokes          &  527\\\\\n",
       "\t 0 & Unknown         & 1080\\\\\n",
       "\t 1 & formerly smoked &   46\\\\\n",
       "\t 1 & never smoked    &   65\\\\\n",
       "\t 1 & smokes          &   31\\\\\n",
       "\t 1 & Unknown         &   24\\\\\n",
       "\\end{tabular}\n"
      ],
      "text/markdown": [
       "\n",
       "A grouped_df: 8 × 3\n",
       "\n",
       "| stroke &lt;dbl&gt; | smoking_status &lt;chr&gt; | number_of_people &lt;int&gt; |\n",
       "|---|---|---|\n",
       "| 0 | formerly smoked |  570 |\n",
       "| 0 | never smoked    | 1338 |\n",
       "| 0 | smokes          |  527 |\n",
       "| 0 | Unknown         | 1080 |\n",
       "| 1 | formerly smoked |   46 |\n",
       "| 1 | never smoked    |   65 |\n",
       "| 1 | smokes          |   31 |\n",
       "| 1 | Unknown         |   24 |\n",
       "\n"
      ],
      "text/plain": [
       "  stroke smoking_status  number_of_people\n",
       "1 0      formerly smoked  570            \n",
       "2 0      never smoked    1338            \n",
       "3 0      smokes           527            \n",
       "4 0      Unknown         1080            \n",
       "5 1      formerly smoked   46            \n",
       "6 1      never smoked      65            \n",
       "7 1      smokes            31            \n",
       "8 1      Unknown           24            "
      ]
     },
     "metadata": {},
     "output_type": "display_data"
    },
    {
     "name": "stderr",
     "output_type": "stream",
     "text": [
      "\u001b[1m\u001b[22m`summarise()` has grouped output by 'stroke'. You can override using the\n",
      "`.groups` argument.\n"
     ]
    },
    {
     "data": {
      "text/html": [
       "<table class=\"dataframe\">\n",
       "<caption>A grouped_df: 4 × 3</caption>\n",
       "<thead>\n",
       "\t<tr><th scope=col>stroke</th><th scope=col>heart_disease</th><th scope=col>number_of_people</th></tr>\n",
       "\t<tr><th scope=col>&lt;dbl&gt;</th><th scope=col>&lt;dbl&gt;</th><th scope=col>&lt;int&gt;</th></tr>\n",
       "</thead>\n",
       "<tbody>\n",
       "\t<tr><td>0</td><td>0</td><td>3362</td></tr>\n",
       "\t<tr><td>0</td><td>1</td><td> 153</td></tr>\n",
       "\t<tr><td>1</td><td>0</td><td> 136</td></tr>\n",
       "\t<tr><td>1</td><td>1</td><td>  30</td></tr>\n",
       "</tbody>\n",
       "</table>\n"
      ],
      "text/latex": [
       "A grouped\\_df: 4 × 3\n",
       "\\begin{tabular}{lll}\n",
       " stroke & heart\\_disease & number\\_of\\_people\\\\\n",
       " <dbl> & <dbl> & <int>\\\\\n",
       "\\hline\n",
       "\t 0 & 0 & 3362\\\\\n",
       "\t 0 & 1 &  153\\\\\n",
       "\t 1 & 0 &  136\\\\\n",
       "\t 1 & 1 &   30\\\\\n",
       "\\end{tabular}\n"
      ],
      "text/markdown": [
       "\n",
       "A grouped_df: 4 × 3\n",
       "\n",
       "| stroke &lt;dbl&gt; | heart_disease &lt;dbl&gt; | number_of_people &lt;int&gt; |\n",
       "|---|---|---|\n",
       "| 0 | 0 | 3362 |\n",
       "| 0 | 1 |  153 |\n",
       "| 1 | 0 |  136 |\n",
       "| 1 | 1 |   30 |\n",
       "\n"
      ],
      "text/plain": [
       "  stroke heart_disease number_of_people\n",
       "1 0      0             3362            \n",
       "2 0      1              153            \n",
       "3 1      0              136            \n",
       "4 1      1               30            "
      ]
     },
     "metadata": {},
     "output_type": "display_data"
    }
   ],
   "source": [
    "#ensures reproducibility\n",
    "set.seed(1234)\n",
    "\n",
    "# the average glucose level of stroke/no stroke\n",
    "stroke_train |> \n",
    "group_by(stroke) |>\n",
    "summarize(avg_gluc = mean(avg_glucose_level))\n",
    "\n",
    "glucose_sd <- sd(stroke_train$avg_glucose_level)\n",
    "glucose_sd\n",
    "\n",
    "# the average bmi of stroke/no stroke\n",
    "stroke_train |> \n",
    "group_by(stroke) |>\n",
    "summarize(avg_BMI = mean(bmi, na.rm = TRUE))\n",
    "\n",
    "bmi_sd <- sd(stroke_train$bmi)\n",
    "bmi_sd\n",
    "\n",
    "# the average age of stroke/no stroke\n",
    "stroke_train |>\n",
    "group_by(stroke) |>\n",
    "summarize(avg_age = mean(age))\n",
    "\n",
    "age_sd <- sd(stroke_train$age)\n",
    "age_sd\n",
    "\n",
    "# the number of people for each smoking status of stroke/no stroke\n",
    "stroke_train |>\n",
    "group_by(stroke, smoking_status) |>\n",
    "summarize(number_of_people = n())\n",
    "    #will not use smoking_status as a predictor variable; summarized statistics seem to contradict common sense\n",
    "\n",
    "\n",
    "# the number of people with/without heart disease\n",
    "stroke_train |>\n",
    "group_by(stroke, heart_disease) |>\n",
    "summarize(number_of_people = n())\n",
    "    #will not use heart_disease as a predictor variable; summarized statistics seem to contradict common sense"
   ]
  },
  {
   "cell_type": "code",
   "execution_count": 37,
   "id": "b8954beb-2f31-42b4-be2a-569607e76a9f",
   "metadata": {},
   "outputs": [
    {
     "name": "stderr",
     "output_type": "stream",
     "text": [
      "ERROR while rich displaying an object: Error in FUN(X[[i]], ...): object 'generalized_bmi' not found\n",
      "\n",
      "Traceback:\n",
      "1. tryCatch(withCallingHandlers({\n",
      " .     if (!mime %in% names(repr::mime2repr)) \n",
      " .         stop(\"No repr_* for mimetype \", mime, \" in repr::mime2repr\")\n",
      " .     rpr <- repr::mime2repr[[mime]](obj)\n",
      " .     if (is.null(rpr)) \n",
      " .         return(NULL)\n",
      " .     prepare_content(is.raw(rpr), rpr)\n",
      " . }, error = error_handler), error = outer_handler)\n",
      "2. tryCatchList(expr, classes, parentenv, handlers)\n",
      "3. tryCatchOne(expr, names, parentenv, handlers[[1L]])\n",
      "4. doTryCatch(return(expr), name, parentenv, handler)\n",
      "5. withCallingHandlers({\n",
      " .     if (!mime %in% names(repr::mime2repr)) \n",
      " .         stop(\"No repr_* for mimetype \", mime, \" in repr::mime2repr\")\n",
      " .     rpr <- repr::mime2repr[[mime]](obj)\n",
      " .     if (is.null(rpr)) \n",
      " .         return(NULL)\n",
      " .     prepare_content(is.raw(rpr), rpr)\n",
      " . }, error = error_handler)\n",
      "6. repr::mime2repr[[mime]](obj)\n",
      "7. repr_text.default(obj)\n",
      "8. paste(capture.output(print(obj)), collapse = \"\\n\")\n",
      "9. capture.output(print(obj))\n",
      "10. withVisible(...elt(i))\n",
      "11. print(obj)\n",
      "12. print.ggplot(obj)\n",
      "13. ggplot_build(x)\n",
      "14. ggplot_build.ggplot(x)\n",
      "15. by_layer(function(l, d) l$compute_aesthetics(d, plot))\n",
      "16. f(l = layers[[i]], d = data[[i]])\n",
      "17. l$compute_aesthetics(d, plot)\n",
      "18. f(..., self = self)\n",
      "19. scales_add_defaults(plot$scales, data, aesthetics, plot$plot_env)\n",
      "20. lapply(aesthetics[new_aesthetics], eval_tidy, data = data)\n",
      "21. FUN(X[[i]], ...)\n"
     ]
    },
    {
     "data": {
      "image/png": "[encoded data removed]",
      "text/plain": [
       "plot without title"
      ]
     },
     "metadata": {
      "image/png": {
       "height": 420,
       "width": 420
      }
     },
     "output_type": "display_data"
    }
   ],
   "source": [
    "# This bar graph visualizes the relationship between Body Mass Index and whether the person has a stroke or not\n",
    "bmi_proportion_plot <- stroke_train |>\n",
    "    ggplot(aes(x = generalized_bmi, fill = stroke_or_not)) +\n",
    "    geom_histogram(position = 'fill') +\n",
    "    labs(fill = 'Stroke or Not?', x = 'Body Mass Index', y = 'Proportion') +\n",
    "    scale_fill_discrete(labels = c('No', 'Yes'))\n",
    "\n",
    "bmi_proportion_plot"
   ]
  },
  {
   "cell_type": "markdown",
   "id": "b894e5ba-6169-4f0f-81f4-6d1a0d47d6a6",
   "metadata": {},
   "source": [
    "### **Discussion:**"
   ]
  },
  {
   "cell_type": "markdown",
   "id": "091b3262-f1e7-4f4a-896c-b9e20f5dc7ba",
   "metadata": {},
   "source": [
    "### **References (APA):**\n",
    "\n"
   ]
  },
  {
   "cell_type": "markdown",
   "id": "f5ab5bc6-056f-4fd2-a1d1-2178dc5de024",
   "metadata": {},
   "source": [
    "Fedesoriano. (2021, January 26). *Stroke Prediction Dataset*. Kaggle. Retrieved April 6, 2023, from https://www.kaggle.com/datasets/fedesoriano/stroke-prediction-dataset?resource=download \n",
    "\n",
    "Heart and Stroke Foundation of Canada. (2022, December 20). *Stroke in Canada is on the rise*. Heart&Stroke . Retrieved April 6, 2023, from https://www.heartandstroke.ca/what-we-do/media-centre/news-releases/stroke-in-canada-is-on-the-rise#:~:text=A%20new%20study%20funded%20by,as%20well%20as%20better%20prevention. \n",
    "\n",
    "Katan, M., & Luft, A. (2018, May 23). *Global Burden of Stroke*. PubMed®. Retrieved April 6, 2023, from https://pubmed.ncbi.nlm.nih.gov/29791947/#:~:text=Stroke%20is%20the%20second%20leading,%2D%20and%20middle%2Dincome%20countries. \n",
    "\n",
    "\n"
   ]
  }
 ],
 "metadata": {
  "kernelspec": {
   "display_name": "R",
   "language": "R",
   "name": "ir"
  },
  "language_info": {
   "codemirror_mode": "r",
   "file_extension": ".r",
   "mimetype": "text/x-r-source",
   "name": "R",
   "pygments_lexer": "r",
   "version": "4.1.3"
  }
 },
 "nbformat": 4,
 "nbformat_minor": 5
}
