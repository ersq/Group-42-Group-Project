{
 "cells": [
  {
   "cell_type": "markdown",
   "id": "a793ded3-5b73-48bf-82be-5411d504381c",
   "metadata": {},
   "source": [
    "### **Yuang Chen, Siraaj Singh Monga, Ella Ren, Greg Satchell Jr**"
   ]
  },
  {
   "cell_type": "code",
   "execution_count": null,
   "id": "f72d8642-b5ae-418e-a7c8-fc4b1b74e208",
   "metadata": {
    "tags": []
   },
   "outputs": [
    {
     "name": "stderr",
     "output_type": "stream",
     "text": [
      "── \u001b[1mAttaching packages\u001b[22m ─────────────────────────────────────── tidyverse 1.3.1 ──\n",
      "\n",
      "\u001b[32m✔\u001b[39m \u001b[34mggplot2\u001b[39m 3.3.6     \u001b[32m✔\u001b[39m \u001b[34mpurrr  \u001b[39m 0.3.4\n",
      "\u001b[32m✔\u001b[39m \u001b[34mtibble \u001b[39m 3.1.7     \u001b[32m✔\u001b[39m \u001b[34mdplyr  \u001b[39m 1.0.9\n",
      "\u001b[32m✔\u001b[39m \u001b[34mtidyr  \u001b[39m 1.2.0     \u001b[32m✔\u001b[39m \u001b[34mstringr\u001b[39m 1.4.0\n",
      "\u001b[32m✔\u001b[39m \u001b[34mreadr  \u001b[39m 2.1.2     \u001b[32m✔\u001b[39m \u001b[34mforcats\u001b[39m 0.5.1\n",
      "\n",
      "── \u001b[1mConflicts\u001b[22m ────────────────────────────────────────── tidyverse_conflicts() ──\n",
      "\u001b[31m✖\u001b[39m \u001b[34mdplyr\u001b[39m::\u001b[32mfilter()\u001b[39m masks \u001b[34mstats\u001b[39m::filter()\n",
      "\u001b[31m✖\u001b[39m \u001b[34mdplyr\u001b[39m::\u001b[32mlag()\u001b[39m    masks \u001b[34mstats\u001b[39m::lag()\n",
      "\n"
     ]
    }
   ],
   "source": [
    "library(tidyverse)\n",
    "library(repr)\n",
    "library(tidymodels)\n",
    "options(repr.matrix.max.rows = 8)\n"
   ]
  },
  {
   "cell_type": "markdown",
   "id": "52c4d608-21f1-40d1-bd50-3420502c92c1",
   "metadata": {},
   "source": [
    "## **Predicting the Chances of a Stroke Report**"
   ]
  },
  {
   "cell_type": "markdown",
   "id": "0ab304aa-a416-4cf2-a27a-dcd2f0a451eb",
   "metadata": {},
   "source": [
    "### **Introduction:**\n",
    "\n",
    "Strokes, often referred to as brain attacks, occur when blood clots block the blood supply to part of the brain (ischemic stroke). They can also occur when blood vessels in the brain burst (hemorrhagic stroke). It is imperative that strokes are met with immediate treatment to prevent brain damage and death. Strokes remain the second leading cause of death and cause a majority of disabilities worldwide (Katan & Luft, 2018). Here in Canada, strokes have risen to an occurrence rate of 108,707 per year - or roughly one every five minutes (Stroke in Canada is on the rise, 2022).\n",
    "\n",
    "With this in mind, our research question is the following: How effective are the variables age, bmi, and avg_glucose_level at correctly predicting whether or not an individual is at risk of suffering a stroke? We intend on creating a classification model that will address the predictive research question above.\n",
    "\n",
    "Stroke Prediction Dataset, the title of the dataset we chose for this project, was adapted from the Kaggle data scientist Fedesoriano. The dataset provides ten clinical features/variables for predicting strokes: gender, age, hypertension, heart_disease, ever_married, work_type, residence_type, avg_glucose_level, bmi, and smoking_status. We will only be using three out of the ten variables as we believe these are the most important factors when determining a chance of stroke. The link to the dataset can be found in the references tab.\n"
   ]
  },
  {
   "cell_type": "markdown",
   "id": "bedb8b0b-bb90-4d62-b5eb-d55eca67b1f5",
   "metadata": {},
   "source": [
    "### **Methods & Results:**\n"
   ]
  },
  {
   "cell_type": "code",
   "execution_count": null,
   "id": "2b227fe1-45e2-49c2-a8a5-fa861f67fdf7",
   "metadata": {
    "tags": []
   },
   "outputs": [],
   "source": [
    "#ensures reproducibility\n",
    "set.seed(1234)\n",
    "\n",
    "#reading dataset into R\n",
    "url <- \"https://raw.githubusercontent.com/ersq/Group-42-Group-Project/main/healthcare-dataset-stroke-data.csv\"\n",
    "stroke_data <- read_csv(url) |>\n",
    "\n",
    "#removes N/A values in bmi column\n",
    "#3832 - 3687 = 145 rows that have missing data in bmi column\n",
    "filter(bmi != \"N/A\") |>\n",
    "\n",
    "#turns bmi column into dbl (previously chr)\n",
    "mutate(bmi = as.numeric(bmi))\n",
    "\n",
    "#splits data into training and testing sets\n",
    "stroke_split <- initial_split(stroke_data, prop = 0.75, strata = stroke) \n",
    "    stroke_train <- training(stroke_split)\n",
    "    stroke_test <- testing(stroke_split)\n",
    "\n",
    "stroke_train\n",
    "\n",
    "stroke_test"
   ]
  },
  {
   "cell_type": "markdown",
   "id": "c40d837c-6000-4467-9eaf-e19d5ba7fd08",
   "metadata": {},
   "source": [
    "We will first standardize the numerical variables and convert the categorized variables to numerical values so that we can quantify their effect on the prediction result. We also removed the N/A values in the bmi column in order to reduce bias/issues in our following code below. \n",
    "\n",
    "Then we will split the database into two parts: the training set and the testing set by the ratio of 3:1. We also need to make sure that the two parts of the database have approximately the same percentage of different types of variables."
   ]
  },
  {
   "cell_type": "code",
   "execution_count": null,
   "id": "3553f5b5-8c5b-4642-b753-4d707243dd6b",
   "metadata": {},
   "outputs": [],
   "source": [
    "#ensures reproducibility\n",
    "set.seed(1234)\n",
    "\n",
    "# the average glucose level of stroke/no stroke\n",
    "average_glucose <- stroke_train |> \n",
    "    group_by(stroke) |>\n",
    "    summarize(avg_gluc = mean(avg_glucose_level), glucose_sd = sd(avg_glucose_level), glucose_cv = glucose_sd / avg_gluc) \n",
    "average_glucose\n",
    "\n",
    "# the average bmi of stroke/no stroke\n",
    "average_bmi <- stroke_train |> \n",
    "    group_by(stroke) |>\n",
    "    summarize(avg_BMI = mean(bmi), bmi_sd = sd(bmi), bmi_cv = bmi_sd / avg_BMI)\n",
    "average_bmi\n",
    "\n",
    "# the average age of stroke/no stroke\n",
    "average_age <- stroke_train |>\n",
    "    group_by(stroke) |>\n",
    "    summarize(avg_age = mean(age), age_sd = sd(age), age_cv = age_sd / avg_age)\n",
    "average_age\n",
    "\n",
    "# the number of people for each smoking status of stroke/no stroke\n",
    "smoking_num <- stroke_train |>\n",
    "    group_by(stroke, smoking_status) |>\n",
    "    summarize(number_of_people = n())\n",
    "    # will not use smoking_status as a predictor variable; summarized statistics seem to contradict common sense\n",
    "\n",
    "# the number of people with/without heart disease\n",
    "heart_disease_num <- stroke_train |>\n",
    "    group_by(stroke, heart_disease) |>\n",
    "    summarize(number_of_people = n())\n",
    "    # will not use heart_disease as a predictor variable; summarized statistics seem to contradict common sense\n"
   ]
  },
  {
   "cell_type": "markdown",
   "id": "9a9a7504-8676-41f4-823e-208816ebca33",
   "metadata": {},
   "source": [
    "In this part of the exploratory analysis, we calculated the average glucose level, BMI, and age of those who have (1) or have not suffered a stroke (0). The standard deviation of each value was also calculated to justify our findings later on. The coefficient of variation (CV) of each table is found by dividing the standard deviation by the average of the data; this helps determine the variation within our data points. As all of our CV values are less than 1, we have very low variance within our data, which could lead to more accurate findings. "
   ]
  },
  {
   "cell_type": "code",
   "execution_count": null,
   "id": "b8954beb-2f31-42b4-be2a-569607e76a9f",
   "metadata": {},
   "outputs": [],
   "source": [
    "options(repr.plot.height = 14, repr.plot.width = 14)\n",
    "\n",
    "# This is the frame that is only used for plotting\n",
    "# It generalizes the bmi for plotting and convert stroke to char so that it can be used as the 'fill' argument.\n",
    "stroke_train_for_plot <- stroke_train |>\n",
    "    mutate(generalized_bmi = floor(floor(as.double(bmi))/10)*10) |>\n",
    "    mutate(stroke_or_not = as.character(stroke))\n",
    "\n",
    "# This bar graph visualizes the relationship between Body Mass Index and whether the person has a stroke or not\n",
    "bmi_plot <- stroke_train_for_plot |>\n",
    "    ggplot(aes(x = generalized_bmi, fill = stroke_or_not)) +\n",
    "    geom_histogram(position = 'fill') +\n",
    "    labs(fill = 'Stroke or Not?', x = 'Body Mass Index', y = 'Proportion') +\n",
    "    ggtitle(\"Figure 1: The Possibility of a Stroke Based on a Person's Body Mass Index\") +\n",
    "   scale_fill_discrete(labels = c('No', 'Yes')) +\n",
    "\n",
    "theme(text = element_text(size = 15))\n",
    "\n",
    "bmi_plot"
   ]
  },
  {
   "cell_type": "markdown",
   "id": "7840014d-c561-44dd-b976-245d3e4d5994",
   "metadata": {},
   "source": [
    "In this graph, we visualize the distribution of body mass indexs' and their affect on whether or not an individual it at risk of having a stroke. From what can be seen from the graph, individuals who have a larger BMI tend to be at greater risk of stroke. Specifically, those who fall in the categories of Overweight: 25-29.9 BMI, Obese: 30-34.9 BMI, and Extremely Obese: 35+ BMI (Lawler, 2022)."
   ]
  },
  {
   "cell_type": "code",
   "execution_count": null,
   "id": "a03d73cf-e81f-404c-9a06-e02cfd650612",
   "metadata": {},
   "outputs": [],
   "source": [
    "#performing 5-fold cross-validation\n",
    "set.seed(8888)\n",
    "\n",
    "options(repr.plot.height = 8, repr.plot.width = 8)\n",
    "\n",
    "stroke_train <- stroke_train |>\n",
    "    mutate(stroke = as.factor(stroke))\n",
    "\n",
    "knn_spec <- nearest_neighbor(weight_func = \"rectangular\", neighbors = tune()) |>\n",
    "    set_engine(\"kknn\") |>\n",
    "    set_mode(\"classification\")\n",
    "\n",
    "stroke_recipe <- recipe(stroke ~ age + bmi + avg_glucose_level, data = stroke_train)\n",
    "\n",
    "stroke_vfold <- vfold_cv(stroke_train, v = 5, strata = stroke)\n",
    "\n",
    "k_vals <- tibble(neighbors = seq(from = 1, to = 50, by = 5))\n",
    "\n",
    "knn_results <- workflow() |>\n",
    "  add_recipe(stroke_recipe) |>\n",
    "  add_model(knn_spec) |>\n",
    "  tune_grid(resamples = stroke_vfold, grid = k_vals) |>\n",
    "  collect_metrics() \n",
    "\n",
    "accuracies <- knn_results |>\n",
    "  filter(.metric == \"accuracy\")\n",
    "\n",
    "accuracies\n",
    "\n",
    "cross_validation_plot <- accuracies |>\n",
    "    ggplot(aes(x = neighbors, y = mean)) +\n",
    "        geom_point() +\n",
    "        geom_line() +\n",
    "    labs(x = \"Neighbors\", y = \"Accuracy Estimate\") +\n",
    "    theme(text = element_text(size = 20))\n",
    "\n",
    "cross_validation_plot"
   ]
  },
  {
   "cell_type": "markdown",
   "id": "99f4794e-e0ed-4080-8e3f-4018d919378a",
   "metadata": {},
   "source": [
    "Next, we will split the training set into 5 folds to apply cross-validation to choose the most suitable k-value with the highest accuracy. We will determing the k-value with the highest accuracy by using a visualization. It will be a geom_point and geom_line graph that plots Neighbors on the x-axis and Accuracy Estimate on the y-axis. We decided to choose the k value of 11 as it yields the highest accuracy and does not see any drop of from neighboring values. Choosing any larger values might make the run time longer."
   ]
  },
  {
   "cell_type": "code",
   "execution_count": null,
   "id": "3a7a970b-aed6-4017-916a-ead01edd5c28",
   "metadata": {},
   "outputs": [],
   "source": [
    "#retraining classifier with best K value\n",
    "set.seed(1234)\n",
    "\n",
    "stroke_spec <- nearest_neighbor(weight_func = \"rectangular\", neighbors = 11) |>\n",
    "       set_engine(\"kknn\") |>\n",
    "       set_mode(\"classification\")\n",
    "\n",
    "\n",
    "stroke_fit <- workflow() |>\n",
    "             add_recipe(stroke_recipe) |>\n",
    "             add_model(stroke_spec) |>\n",
    "            fit(data = stroke_train)\n",
    "stroke_fit"
   ]
  },
  {
   "cell_type": "markdown",
   "id": "888734a9-0748-4d83-b0af-5aca21084290",
   "metadata": {},
   "source": [
    "After determining the optimal k-value, we will retrain the model using the fit function. "
   ]
  },
  {
   "cell_type": "code",
   "execution_count": null,
   "id": "daed1a1c-dac4-4519-9f72-b9d119f7ac40",
   "metadata": {},
   "outputs": [],
   "source": [
    "#evaluting classifiers accuracy on testing set\n",
    "set.seed(1234)\n",
    "\n",
    "stroke_test <- stroke_test |>\n",
    "    mutate(stroke = as.factor(stroke))\n",
    "\n",
    "stroke_predictions <- predict(stroke_fit, stroke_test) |>\n",
    "                        bind_cols(stroke_test)\n",
    "\n",
    "stroke_metrics <- stroke_predictions |>\n",
    "    metrics(truth = stroke, estimate = .pred_class) |>\n",
    "    filter(.metric == \"accuracy\")\n",
    "\n",
    "stroke_metrics\n",
    "\n",
    "stroke_conf_mat <- stroke_predictions |>\n",
    "    conf_mat(truth = stroke, estimate = .pred_class)\n",
    "\n",
    "stroke_conf_mat"
   ]
  },
  {
   "cell_type": "markdown",
   "id": "ca538723-5149-49a3-8ba1-17e4695c0938",
   "metadata": {},
   "source": [
    "We will then assess the model's accuracy by using the predict function on the testing set. We will also create a confusion matrix to show how many predictions the model got correct and incorrect. "
   ]
  },
  {
   "cell_type": "code",
   "execution_count": null,
   "id": "c7d0f5aa-574b-4056-8ce0-438775773a05",
   "metadata": {},
   "outputs": [],
   "source": [
    "options(repr.plot.height = 11, repr.plot.width = 11)\n",
    "\n",
    "age_bmi_plot <- stroke_train |>\n",
    "  ggplot(aes(x = age, y = bmi, color = stroke)) +\n",
    "  geom_point(alpha = 0.8) +\n",
    "  labs(x = \"Age (Years)\", \n",
    "       y = \"BMI (Body Mass Index)\",\n",
    "       color = \"Stroke or Not?\") +\n",
    "  scale_color_manual(labels = c(\"No\", \"Yes\"), \n",
    "                    values = c(\"orange1\", \"blue1\")) +\n",
    "#tried to use colours that can be seen distinctly from one another\n",
    "   \n",
    "ggtitle(\"Figure 2: Relationship between Age and BMI\") +\n",
    "  theme(text = element_text(size = 15))\n",
    "\n",
    "age_bmi_plot\n",
    "\n",
    "\n",
    "age_glucose_plot <- stroke_train |>\n",
    "  ggplot(aes(x = age, y = avg_glucose_level, color = stroke)) +\n",
    "  geom_point(alpha = 0.6) +\n",
    "  labs(x = \"Age (Years)\", \n",
    "       y = \"Average Glucose Level\",\n",
    "       color = \"Stroke or Not?\") +\n",
    "  scale_color_manual(labels = c(\"No\", \"Yes\"), \n",
    "                    values = c(\"red1\", \"green4\")) +\n",
    "#tried to use colours that can be seen distinctly from one another\n",
    "   \n",
    "  ggtitle(\"Figure 3: Relationship between Age and Average Glucose Level\") +\n",
    "  theme(text = element_text(size = 15))\n",
    "\n",
    "age_glucose_plot"
   ]
  },
  {
   "cell_type": "markdown",
   "id": "5f99d61f-c7de-42c1-a2e2-f90c5a3857a5",
   "metadata": {},
   "source": [
    "Additionally, to better understand the results visually, we will represent the data using two scatterplots. These scatterplots will display age on the x-axis and bmi/avg_glucose_level on their respective y-axes. The points will be coloured according to whether or not the individual is at risk of stroke. From what we can see in the graphs, age seems to have the largest impact on whether or not an individual is at risk of stroke. The respective 'Yes' coloured data points in each graph are much more present in the larger age groups. BMI and Average Glucose Level seems to have a smaller impact compared to Age. "
   ]
  },
  {
   "cell_type": "markdown",
   "id": "b894e5ba-6169-4f0f-81f4-6d1a0d47d6a6",
   "metadata": {},
   "source": [
    "### **Discussion:**\n",
    "\n",
    "We did a study to see if age, BMI, and average glucose level could accuractly predict the risk of stroke at a high percentage level. We used a Stroke Prediction Dataset and split it into a 3:1 ratio training and testing set. Then we applied a 5-fold cross validation to determine the best k value. Afterwards, we retrained the model and assessed the model's accuracy by using the predict function on the testing set. Then we checked the accuracy of the model using a two scatterplots and a confusion matrix. Our model returned about a 96.34% accuracy, or in other words, 1183/1228 correct predictions. In our preliminary analysis, we found that all of our CV values are below 1, which means our data points have little variance, this gives us evidence to support our high accuracy.\n",
    "\n",
    "We initially believed our classification model would return highly accurate prediction results as we preformed data anaylsis beforehand. Doing so allowed us to pick consistent variables that the model could use to classify data points. With that being said, there are still a number of things we could do to improve upon the 96.34% the model outputted. Since we are in a medical setting where we are predicting chances of stroke, we would want the model to be as accurate as possible to decrease harm among patients. In the future, we could add more variables for the model to go off of. Although smoking_status and heart_disease produced inconsistent results in the data analysis, we could test other variables we did not use such as ever_married and hypertension. Additionally, we could also perform more folds in cross-validation to reduce the standard error, but that involves more computation power and longer run times. Increasing the folds from 5 to 10 could potentially increase the classifiers accuracy.\n",
    "\n",
    "\n",
    "The analysis of the Stroke Prediction Dataset can potentially provide insights into the risk factors associated with strokes. By examining multiple clinical features, the researchers can identify the most significant predictors of stroke occurrence, and develop a model that accurately predicts the likelihood of a stroke occurring in an individual.\n",
    "\n",
    "The findings of such research can have significant implications for public health. Early detection and prevention can help reduce the number of fatalities associated with the condition. \n",
    "\n",
    "Analysis can also lead to future questions related to stroke prevention and treatment. For instance, the researchers can examine the effectiveness of existing stroke prevention measures and identify areas for improvement. Additionally, the findings can lead to the development of new treatment and prevention strategies that can further reduce the incidence of strokes.\n"
   ]
  },
  {
   "cell_type": "markdown",
   "id": "091b3262-f1e7-4f4a-896c-b9e20f5dc7ba",
   "metadata": {},
   "source": [
    "### **References (APA):**\n",
    "\n"
   ]
  },
  {
   "cell_type": "markdown",
   "id": "f5ab5bc6-056f-4fd2-a1d1-2178dc5de024",
   "metadata": {},
   "source": [
    "Fedesoriano. (2021, January 26). *Stroke Prediction Dataset*. Kaggle. Retrieved April 6, 2023, from https://www.kaggle.com/datasets/fedesoriano/stroke-prediction-dataset?resource=download \n",
    "\n",
    "Heart and Stroke Foundation of Canada. (2022, December 20). *Stroke in Canada is on the rise*. Heart&Stroke . Retrieved April 6, 2023, from https://www.heartandstroke.ca/what-we-do/media-centre/news-releases/stroke-in-canada-is-on-the-rise#:~:text=A%20new%20study%20funded%20by,as%20well%20as%20better%20prevention. \n",
    "\n",
    "Katan, M., & Luft, A. (2018, May 23). *Global Burden of Stroke*. PubMed®. Retrieved April 6, 2023, from https://pubmed.ncbi.nlm.nih.gov/29791947/#:~:text=Stroke%20is%20the%20second%20leading,%2D%20and%20middle%2Dincome%20countries. \n",
    "\n",
    "Lawler, M. (2022, December 3). *What's a healthy BMI in adults? Here's Everything You Need to Know.* EverydayHealth.com. Retrieved April 12, 2023, from https://www.everydayhealth.com/diet-nutrition/bmi/bmi-adults-yours-healthy-not-how-can-you-lose-weight/ \n",
    "\n",
    "\n"
   ]
  }
 ],
 "metadata": {
  "kernelspec": {
   "display_name": "R",
   "language": "R",
   "name": "ir"
  },
  "language_info": {
   "codemirror_mode": "r",
   "file_extension": ".r",
   "mimetype": "text/x-r-source",
   "name": "R",
   "pygments_lexer": "r",
   "version": "4.1.3"
  }
 },
 "nbformat": 4,
 "nbformat_minor": 5
}
