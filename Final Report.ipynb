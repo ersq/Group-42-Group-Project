{
 "cells": [
  {
   "cell_type": "markdown",
   "id": "a793ded3-5b73-48bf-82be-5411d504381c",
   "metadata": {},
   "source": [
    "### **Yuang Chen, Siraaj Singh Monga, Ella Ren, Greg Satchell Jr**"
   ]
  },
  {
   "cell_type": "code",
   "execution_count": 3,
   "id": "f72d8642-b5ae-418e-a7c8-fc4b1b74e208",
   "metadata": {
    "tags": []
   },
   "outputs": [
    {
     "name": "stderr",
     "output_type": "stream",
     "text": [
      "── \u001b[1mAttaching packages\u001b[22m ─────────────────────────────────────── tidyverse 1.3.1 ──\n",
      "\n",
      "\u001b[32m✔\u001b[39m \u001b[34mggplot2\u001b[39m 3.3.6     \u001b[32m✔\u001b[39m \u001b[34mpurrr  \u001b[39m 0.3.4\n",
      "\u001b[32m✔\u001b[39m \u001b[34mtibble \u001b[39m 3.1.7     \u001b[32m✔\u001b[39m \u001b[34mdplyr  \u001b[39m 1.0.9\n",
      "\u001b[32m✔\u001b[39m \u001b[34mtidyr  \u001b[39m 1.2.0     \u001b[32m✔\u001b[39m \u001b[34mstringr\u001b[39m 1.4.0\n",
      "\u001b[32m✔\u001b[39m \u001b[34mreadr  \u001b[39m 2.1.2     \u001b[32m✔\u001b[39m \u001b[34mforcats\u001b[39m 0.5.1\n",
      "\n",
      "── \u001b[1mConflicts\u001b[22m ────────────────────────────────────────── tidyverse_conflicts() ──\n",
      "\u001b[31m✖\u001b[39m \u001b[34mdplyr\u001b[39m::\u001b[32mfilter()\u001b[39m masks \u001b[34mstats\u001b[39m::filter()\n",
      "\u001b[31m✖\u001b[39m \u001b[34mdplyr\u001b[39m::\u001b[32mlag()\u001b[39m    masks \u001b[34mstats\u001b[39m::lag()\n",
      "\n",
      "── \u001b[1mAttaching packages\u001b[22m ────────────────────────────────────── tidymodels 1.0.0 ──\n",
      "\n",
      "\u001b[32m✔\u001b[39m \u001b[34mbroom       \u001b[39m 1.0.0     \u001b[32m✔\u001b[39m \u001b[34mrsample     \u001b[39m 1.0.0\n",
      "\u001b[32m✔\u001b[39m \u001b[34mdials       \u001b[39m 1.0.0     \u001b[32m✔\u001b[39m \u001b[34mtune        \u001b[39m 1.0.0\n",
      "\u001b[32m✔\u001b[39m \u001b[34minfer       \u001b[39m 1.0.2     \u001b[32m✔\u001b[39m \u001b[34mworkflows   \u001b[39m 1.0.0\n",
      "\u001b[32m✔\u001b[39m \u001b[34mmodeldata   \u001b[39m 1.0.0     \u001b[32m✔\u001b[39m \u001b[34mworkflowsets\u001b[39m 1.0.0\n",
      "\u001b[32m✔\u001b[39m \u001b[34mparsnip     \u001b[39m 1.0.0     \u001b[32m✔\u001b[39m \u001b[34myardstick   \u001b[39m 1.0.0\n",
      "\u001b[32m✔\u001b[39m \u001b[34mrecipes     \u001b[39m 1.0.1     \n",
      "\n",
      "── \u001b[1mConflicts\u001b[22m ───────────────────────────────────────── tidymodels_conflicts() ──\n",
      "\u001b[31m✖\u001b[39m \u001b[34mscales\u001b[39m::\u001b[32mdiscard()\u001b[39m masks \u001b[34mpurrr\u001b[39m::discard()\n",
      "\u001b[31m✖\u001b[39m \u001b[34mdplyr\u001b[39m::\u001b[32mfilter()\u001b[39m   masks \u001b[34mstats\u001b[39m::filter()\n",
      "\u001b[31m✖\u001b[39m \u001b[34mrecipes\u001b[39m::\u001b[32mfixed()\u001b[39m  masks \u001b[34mstringr\u001b[39m::fixed()\n",
      "\u001b[31m✖\u001b[39m \u001b[34mdplyr\u001b[39m::\u001b[32mlag()\u001b[39m      masks \u001b[34mstats\u001b[39m::lag()\n",
      "\u001b[31m✖\u001b[39m \u001b[34myardstick\u001b[39m::\u001b[32mspec()\u001b[39m masks \u001b[34mreadr\u001b[39m::spec()\n",
      "\u001b[31m✖\u001b[39m \u001b[34mrecipes\u001b[39m::\u001b[32mstep()\u001b[39m   masks \u001b[34mstats\u001b[39m::step()\n",
      "\u001b[34m•\u001b[39m Use \u001b[32mtidymodels_prefer()\u001b[39m to resolve common conflicts.\n",
      "\n"
     ]
    }
   ],
   "source": [
    "library(tidyverse)\n",
    "library(repr)\n",
    "library(tidymodels)\n",
    "options(repr.matrix.max.rows = 8)\n"
   ]
  },
  {
   "cell_type": "markdown",
   "id": "52c4d608-21f1-40d1-bd50-3420502c92c1",
   "metadata": {},
   "source": [
    "## **Predicting the Chances of a Stroke Report**"
   ]
  },
  {
   "cell_type": "markdown",
   "id": "0ab304aa-a416-4cf2-a27a-dcd2f0a451eb",
   "metadata": {},
   "source": [
    "### **Introduction:**\n",
    "\n",
    "Strokes, often referred to as brain attacks, occur when blood clots block the blood supply to part of the brain (ischemic stroke). They can also occur when blood vessels in the brain burst (hemorrhagic stroke). It is imperative that strokes are met with immediate treatment to prevent brain damage and death. Strokes remain the second leading cause of death and cause a majority of disabilities worldwide (Katan & Luft, 2018). Here in Canada, strokes have risen to an occurrence rate of 108,707 per year - or roughly one every five minutes (Stroke in Canada is on the rise, 2022).\n",
    "\n",
    "With this in mind, our research question is the following: How effective are the variables age, bmi, and avg_glucose_level at correctly predicting whether or not an individual is at risk of suffering a stroke? We intend on creating a classification model that will address the predictive research question above.\n",
    "\n",
    "Stroke Prediction Dataset, the title of the dataset we chose for this project, was adapted from the Kaggle data scientist fedesoriano. The dataset provides ten clinical features/variables for predicting strokes: gender, age, hypertension, heart_disease, ever_married, work_type, residence_type, avg_glucose_level, bmi, and smoking_status. We will only be using three out of the ten variables as we believe these are the most important factors when determining a chance of stroke. The link to the dataset can be found in the references tab.\n"
   ]
  },
  {
   "cell_type": "markdown",
   "id": "bedb8b0b-bb90-4d62-b5eb-d55eca67b1f5",
   "metadata": {},
   "source": [
    "### **Methods & Results:**\n",
    "\n",
    "*put written method explanation here*"
   ]
  },
  {
   "cell_type": "code",
   "execution_count": 5,
   "id": "2b227fe1-45e2-49c2-a8a5-fa861f67fdf7",
   "metadata": {},
   "outputs": [
    {
     "name": "stderr",
     "output_type": "stream",
     "text": [
      "Warning message:\n",
      "“One or more parsing issues, see `problems()` for details”\n",
      "\u001b[1mRows: \u001b[22m\u001b[34m77857\u001b[39m \u001b[1mColumns: \u001b[22m\u001b[34m1\u001b[39m\n",
      "\u001b[36m──\u001b[39m \u001b[1mColumn specification\u001b[22m \u001b[36m────────────────────────────────────────────────────────\u001b[39m\n",
      "\u001b[1mDelimiter:\u001b[22m \",\"\n",
      "\u001b[31mchr\u001b[39m (1): <!DOCTYPE html>\n",
      "\n",
      "\u001b[36mℹ\u001b[39m Use `spec()` to retrieve the full column specification for this data.\n",
      "\u001b[36mℹ\u001b[39m Specify the column types or set `show_col_types = FALSE` to quiet this message.\n"
     ]
    },
    {
     "data": {
      "text/html": [
       "<table class=\"dataframe\">\n",
       "<caption>A spec_tbl_df: 77857 × 1</caption>\n",
       "<thead>\n",
       "\t<tr><th scope=col>&lt;!DOCTYPE html&gt;</th></tr>\n",
       "\t<tr><th scope=col>&lt;chr&gt;</th></tr>\n",
       "</thead>\n",
       "<tbody>\n",
       "\t<tr><td>&lt;html lang=\"en\" data-color-mode=\"auto\" data-light-theme=\"light\" data-dark-theme=\"dark\" data-a11y-animated-images=\"system\"&gt;</td></tr>\n",
       "\t<tr><td><span style=white-space:pre-wrap>&lt;head&gt;                                                                                                                    </span></td></tr>\n",
       "\t<tr><td><span style=white-space:pre-wrap>&lt;meta charset=\"utf-8\"&gt;                                                                                                    </span></td></tr>\n",
       "\t<tr><td><span style=white-space:pre-wrap>&lt;link rel=\"dns-prefetch\" href=\"https://github.githubassets.com\"&gt;                                                          </span></td></tr>\n",
       "\t<tr><td>⋮</td></tr>\n",
       "\t<tr><td><span style=white-space:pre-wrap>&lt;/div&gt;                                                                             </span></td></tr>\n",
       "\t<tr><td>&lt;div id=\"js-global-screen-reader-notice\" class=\"sr-only\" aria-live=\"polite\" &gt;&lt;/div&gt;</td></tr>\n",
       "\t<tr><td><span style=white-space:pre-wrap>&lt;/body&gt;                                                                            </span></td></tr>\n",
       "\t<tr><td><span style=white-space:pre-wrap>&lt;/html&gt;                                                                            </span></td></tr>\n",
       "</tbody>\n",
       "</table>\n"
      ],
      "text/latex": [
       "A spec\\_tbl\\_df: 77857 × 1\n",
       "\\begin{tabular}{l}\n",
       " <!DOCTYPE html>\\\\\n",
       " <chr>\\\\\n",
       "\\hline\n",
       "\t <html lang=\"en\" data-color-mode=\"auto\" data-light-theme=\"light\" data-dark-theme=\"dark\" data-a11y-animated-images=\"system\">\\\\\n",
       "\t <head>                                                                                                                    \\\\\n",
       "\t <meta charset=\"utf-8\">                                                                                                    \\\\\n",
       "\t <link rel=\"dns-prefetch\" href=\"https://github.githubassets.com\">                                                          \\\\\n",
       "\t ⋮\\\\\n",
       "\t </div>                                                                             \\\\\n",
       "\t <div id=\"js-global-screen-reader-notice\" class=\"sr-only\" aria-live=\"polite\" ></div>\\\\\n",
       "\t </body>                                                                            \\\\\n",
       "\t </html>                                                                            \\\\\n",
       "\\end{tabular}\n"
      ],
      "text/markdown": [
       "\n",
       "A spec_tbl_df: 77857 × 1\n",
       "\n",
       "| &lt;!DOCTYPE html&gt; &lt;chr&gt; |\n",
       "|---|\n",
       "| &lt;html lang=\"en\" data-color-mode=\"auto\" data-light-theme=\"light\" data-dark-theme=\"dark\" data-a11y-animated-images=\"system\"&gt; |\n",
       "| &lt;head&gt;                                                                                                                     |\n",
       "| &lt;meta charset=\"utf-8\"&gt;                                                                                                     |\n",
       "| &lt;link rel=\"dns-prefetch\" href=\"https://github.githubassets.com\"&gt;                                                           |\n",
       "| ⋮ |\n",
       "| &lt;/div&gt;                                                                              |\n",
       "| &lt;div id=\"js-global-screen-reader-notice\" class=\"sr-only\" aria-live=\"polite\" &gt;&lt;/div&gt; |\n",
       "| &lt;/body&gt;                                                                             |\n",
       "| &lt;/html&gt;                                                                             |\n",
       "\n"
      ],
      "text/plain": [
       "      <!DOCTYPE html>                                                                                                           \n",
       "1     <html lang=\"en\" data-color-mode=\"auto\" data-light-theme=\"light\" data-dark-theme=\"dark\" data-a11y-animated-images=\"system\">\n",
       "2     <head>                                                                                                                    \n",
       "3     <meta charset=\"utf-8\">                                                                                                    \n",
       "4     <link rel=\"dns-prefetch\" href=\"https://github.githubassets.com\">                                                          \n",
       "⋮     ⋮                                                                                                                         \n",
       "77854 </div>                                                                                                                    \n",
       "77855 <div id=\"js-global-screen-reader-notice\" class=\"sr-only\" aria-live=\"polite\" ></div>                                       \n",
       "77856 </body>                                                                                                                   \n",
       "77857 </html>                                                                                                                   "
      ]
     },
     "metadata": {},
     "output_type": "display_data"
    }
   ],
   "source": [
    "set.seed(1234)\n",
    "\n",
    "url <- \"https://github.com/ersq/Group-42-Group-Project/blob/main/data/stroke_data.csv\"\n",
    "stroke_data <- read_csv(url)\n",
    "\n",
    "stroke_data"
   ]
  },
  {
   "cell_type": "markdown",
   "id": "b894e5ba-6169-4f0f-81f4-6d1a0d47d6a6",
   "metadata": {},
   "source": [
    "### **Discussion:**"
   ]
  },
  {
   "cell_type": "markdown",
   "id": "091b3262-f1e7-4f4a-896c-b9e20f5dc7ba",
   "metadata": {},
   "source": [
    "### **References (APA):**\n",
    "\n"
   ]
  },
  {
   "cell_type": "markdown",
   "id": "f5ab5bc6-056f-4fd2-a1d1-2178dc5de024",
   "metadata": {},
   "source": [
    "Fedesoriano. (2021, January 26). *Stroke Prediction Dataset*. Kaggle. Retrieved April 6, 2023, from https://www.kaggle.com/datasets/fedesoriano/stroke-prediction-dataset?resource=download \n",
    "\n",
    "Heart and Stroke Foundation of Canada. (2022, December 20). *Stroke in Canada is on the rise*. Heart&Stroke . Retrieved April 6, 2023, from https://www.heartandstroke.ca/what-we-do/media-centre/news-releases/stroke-in-canada-is-on-the-rise#:~:text=A%20new%20study%20funded%20by,as%20well%20as%20better%20prevention. \n",
    "\n",
    "Katan, M., & Luft, A. (2018, May 23). *Global Burden of Stroke*. PubMed®. Retrieved April 6, 2023, from https://pubmed.ncbi.nlm.nih.gov/29791947/#:~:text=Stroke%20is%20the%20second%20leading,%2D%20and%20middle%2Dincome%20countries. \n",
    "\n",
    "\n"
   ]
  }
 ],
 "metadata": {
  "kernelspec": {
   "display_name": "R",
   "language": "R",
   "name": "ir"
  },
  "language_info": {
   "codemirror_mode": "r",
   "file_extension": ".r",
   "mimetype": "text/x-r-source",
   "name": "R",
   "pygments_lexer": "r",
   "version": "4.1.3"
  }
 },
 "nbformat": 4,
 "nbformat_minor": 5
}
