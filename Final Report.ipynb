{
 "cells": [
  {
   "cell_type": "markdown",
   "id": "a793ded3-5b73-48bf-82be-5411d504381c",
   "metadata": {},
   "source": [
    "### **Yuang Chen, Siraaj Singh Monga, Ella Ren, Greg Satchell Jr**"
   ]
  },
  {
   "cell_type": "code",
   "execution_count": 1,
   "id": "f72d8642-b5ae-418e-a7c8-fc4b1b74e208",
   "metadata": {
    "tags": []
   },
   "outputs": [
    {
     "name": "stderr",
     "output_type": "stream",
     "text": [
      "── \u001b[1mAttaching packages\u001b[22m ─────────────────────────────────────── tidyverse 1.3.1 ──\n",
      "\n",
      "\u001b[32m✔\u001b[39m \u001b[34mggplot2\u001b[39m 3.3.6     \u001b[32m✔\u001b[39m \u001b[34mpurrr  \u001b[39m 0.3.4\n",
      "\u001b[32m✔\u001b[39m \u001b[34mtibble \u001b[39m 3.1.7     \u001b[32m✔\u001b[39m \u001b[34mdplyr  \u001b[39m 1.0.9\n",
      "\u001b[32m✔\u001b[39m \u001b[34mtidyr  \u001b[39m 1.2.0     \u001b[32m✔\u001b[39m \u001b[34mstringr\u001b[39m 1.4.0\n",
      "\u001b[32m✔\u001b[39m \u001b[34mreadr  \u001b[39m 2.1.2     \u001b[32m✔\u001b[39m \u001b[34mforcats\u001b[39m 0.5.1\n",
      "\n",
      "── \u001b[1mConflicts\u001b[22m ────────────────────────────────────────── tidyverse_conflicts() ──\n",
      "\u001b[31m✖\u001b[39m \u001b[34mdplyr\u001b[39m::\u001b[32mfilter()\u001b[39m masks \u001b[34mstats\u001b[39m::filter()\n",
      "\u001b[31m✖\u001b[39m \u001b[34mdplyr\u001b[39m::\u001b[32mlag()\u001b[39m    masks \u001b[34mstats\u001b[39m::lag()\n",
      "\n",
      "── \u001b[1mAttaching packages\u001b[22m ────────────────────────────────────── tidymodels 1.0.0 ──\n",
      "\n",
      "\u001b[32m✔\u001b[39m \u001b[34mbroom       \u001b[39m 1.0.0     \u001b[32m✔\u001b[39m \u001b[34mrsample     \u001b[39m 1.0.0\n",
      "\u001b[32m✔\u001b[39m \u001b[34mdials       \u001b[39m 1.0.0     \u001b[32m✔\u001b[39m \u001b[34mtune        \u001b[39m 1.0.0\n",
      "\u001b[32m✔\u001b[39m \u001b[34minfer       \u001b[39m 1.0.2     \u001b[32m✔\u001b[39m \u001b[34mworkflows   \u001b[39m 1.0.0\n",
      "\u001b[32m✔\u001b[39m \u001b[34mmodeldata   \u001b[39m 1.0.0     \u001b[32m✔\u001b[39m \u001b[34mworkflowsets\u001b[39m 1.0.0\n",
      "\u001b[32m✔\u001b[39m \u001b[34mparsnip     \u001b[39m 1.0.0     \u001b[32m✔\u001b[39m \u001b[34myardstick   \u001b[39m 1.0.0\n",
      "\u001b[32m✔\u001b[39m \u001b[34mrecipes     \u001b[39m 1.0.1     \n",
      "\n",
      "── \u001b[1mConflicts\u001b[22m ───────────────────────────────────────── tidymodels_conflicts() ──\n",
      "\u001b[31m✖\u001b[39m \u001b[34mscales\u001b[39m::\u001b[32mdiscard()\u001b[39m masks \u001b[34mpurrr\u001b[39m::discard()\n",
      "\u001b[31m✖\u001b[39m \u001b[34mdplyr\u001b[39m::\u001b[32mfilter()\u001b[39m   masks \u001b[34mstats\u001b[39m::filter()\n",
      "\u001b[31m✖\u001b[39m \u001b[34mrecipes\u001b[39m::\u001b[32mfixed()\u001b[39m  masks \u001b[34mstringr\u001b[39m::fixed()\n",
      "\u001b[31m✖\u001b[39m \u001b[34mdplyr\u001b[39m::\u001b[32mlag()\u001b[39m      masks \u001b[34mstats\u001b[39m::lag()\n",
      "\u001b[31m✖\u001b[39m \u001b[34myardstick\u001b[39m::\u001b[32mspec()\u001b[39m masks \u001b[34mreadr\u001b[39m::spec()\n",
      "\u001b[31m✖\u001b[39m \u001b[34mrecipes\u001b[39m::\u001b[32mstep()\u001b[39m   masks \u001b[34mstats\u001b[39m::step()\n",
      "\u001b[34m•\u001b[39m Use \u001b[32mtidymodels_prefer()\u001b[39m to resolve common conflicts.\n",
      "\n"
     ]
    }
   ],
   "source": [
    "library(tidyverse)\n",
    "library(repr)\n",
    "library(tidymodels)\n",
    "options(repr.matrix.max.rows = 8)\n"
   ]
  },
  {
   "cell_type": "markdown",
   "id": "52c4d608-21f1-40d1-bd50-3420502c92c1",
   "metadata": {},
   "source": [
    "## **Predicting the Chances of a Stroke Report**"
   ]
  },
  {
   "cell_type": "markdown",
   "id": "0ab304aa-a416-4cf2-a27a-dcd2f0a451eb",
   "metadata": {},
   "source": [
    "### **Introduction:**\n",
    "\n",
    "Strokes, often referred to as brain attacks, occur when blood clots block the blood supply to part of the brain (ischemic stroke). They can also occur when blood vessels in the brain burst (hemorrhagic stroke). It is imperative that strokes are met with immediate treatment to prevent brain damage and death. Strokes remain the second leading cause of death and cause a majority of disabilities worldwide (Katan & Luft, 2018). Here in Canada, strokes have risen to an occurrence rate of 108,707 per year - or roughly one every five minutes (Stroke in Canada is on the rise, 2022).\n",
    "\n",
    "With this in mind, our research question is the following: How effective are the variables age, bmi, and avg_glucose_level at correctly predicting whether or not an individual is at risk of suffering a stroke? We intend on creating a classification model that will address the predictive research question above.\n",
    "\n",
    "Stroke Prediction Dataset, the title of the dataset we chose for this project, was adapted from the Kaggle data scientist fedesoriano. The dataset provides ten clinical features/variables for predicting strokes: gender, age, hypertension, heart_disease, ever_married, work_type, residence_type, avg_glucose_level, bmi, and smoking_status. We will only be using three out of the ten variables as we believe these are the most important factors when determining a chance of stroke. The link to the dataset can be found in the references tab.\n"
   ]
  },
  {
   "cell_type": "markdown",
   "id": "bedb8b0b-bb90-4d62-b5eb-d55eca67b1f5",
   "metadata": {},
   "source": [
    "### **Methods & Results:**\n",
    "\n",
    "We will first standardize the numerical variables and convert the categorized variables to numerical values so that we can quantify their effect on the prediction result and makes all of the variables contribute equally to the outcome. \n",
    "\n",
    "Then we will split the database into two parts: the training set and the testing set by the ratio of 3:1. We also need to make sure that the two parts of the database have approximately the same percentage of different types of variables.\n",
    "\n",
    "Next, we will split the training set into 5 folds to apply cross-validation to choose the most suitable k-value with the highest accuracy. We will determing the k-value with the highest accuracy by using a visualization. It'll be a geom_point and geom_line graph that plots Neighbors on the x-axis and Accuracy Estimate on the y-axis.\n",
    "\n",
    "\n"
   ]
  },
  {
   "cell_type": "code",
   "execution_count": 2,
   "id": "2b227fe1-45e2-49c2-a8a5-fa861f67fdf7",
   "metadata": {
    "tags": []
   },
   "outputs": [
    {
     "name": "stderr",
     "output_type": "stream",
     "text": [
      "\u001b[1mRows: \u001b[22m\u001b[34m5110\u001b[39m \u001b[1mColumns: \u001b[22m\u001b[34m12\u001b[39m\n",
      "\u001b[36m──\u001b[39m \u001b[1mColumn specification\u001b[22m \u001b[36m────────────────────────────────────────────────────────\u001b[39m\n",
      "\u001b[1mDelimiter:\u001b[22m \",\"\n",
      "\u001b[31mchr\u001b[39m (6): gender, ever_married, work_type, Residence_type, bmi, smoking_status\n",
      "\u001b[32mdbl\u001b[39m (6): id, age, hypertension, heart_disease, avg_glucose_level, stroke\n",
      "\n",
      "\u001b[36mℹ\u001b[39m Use `spec()` to retrieve the full column specification for this data.\n",
      "\u001b[36mℹ\u001b[39m Specify the column types or set `show_col_types = FALSE` to quiet this message.\n"
     ]
    },
    {
     "data": {
      "text/html": [
       "<table class=\"dataframe\">\n",
       "<caption>A tibble: 3681 × 12</caption>\n",
       "<thead>\n",
       "\t<tr><th scope=col>id</th><th scope=col>gender</th><th scope=col>age</th><th scope=col>hypertension</th><th scope=col>heart_disease</th><th scope=col>ever_married</th><th scope=col>work_type</th><th scope=col>Residence_type</th><th scope=col>avg_glucose_level</th><th scope=col>bmi</th><th scope=col>smoking_status</th><th scope=col>stroke</th></tr>\n",
       "\t<tr><th scope=col>&lt;dbl&gt;</th><th scope=col>&lt;chr&gt;</th><th scope=col>&lt;dbl&gt;</th><th scope=col>&lt;dbl&gt;</th><th scope=col>&lt;dbl&gt;</th><th scope=col>&lt;chr&gt;</th><th scope=col>&lt;chr&gt;</th><th scope=col>&lt;chr&gt;</th><th scope=col>&lt;dbl&gt;</th><th scope=col>&lt;dbl&gt;</th><th scope=col>&lt;chr&gt;</th><th scope=col>&lt;dbl&gt;</th></tr>\n",
       "</thead>\n",
       "<tbody>\n",
       "\t<tr><td> 9046</td><td>Male  </td><td>67</td><td>0</td><td>1</td><td>Yes</td><td>Private      </td><td>Urban</td><td>228.69</td><td>36.6</td><td>formerly smoked</td><td>1</td></tr>\n",
       "\t<tr><td>31112</td><td>Male  </td><td>80</td><td>0</td><td>1</td><td>Yes</td><td>Private      </td><td>Rural</td><td>105.92</td><td>32.5</td><td>never smoked   </td><td>1</td></tr>\n",
       "\t<tr><td>60182</td><td>Female</td><td>49</td><td>0</td><td>0</td><td>Yes</td><td>Private      </td><td>Urban</td><td>171.23</td><td>34.4</td><td>smokes         </td><td>1</td></tr>\n",
       "\t<tr><td> 1665</td><td>Female</td><td>79</td><td>1</td><td>0</td><td>Yes</td><td>Self-employed</td><td>Rural</td><td>174.12</td><td>24.0</td><td>never smoked   </td><td>1</td></tr>\n",
       "\t<tr><td>⋮</td><td>⋮</td><td>⋮</td><td>⋮</td><td>⋮</td><td>⋮</td><td>⋮</td><td>⋮</td><td>⋮</td><td>⋮</td><td>⋮</td><td>⋮</td></tr>\n",
       "\t<tr><td>22127</td><td>Female</td><td>18</td><td>0</td><td>0</td><td>No </td><td>Private      </td><td>Urban</td><td> 82.85</td><td>46.9</td><td>Unknown     </td><td>0</td></tr>\n",
       "\t<tr><td>14180</td><td>Female</td><td>13</td><td>0</td><td>0</td><td>No </td><td>children     </td><td>Rural</td><td>103.08</td><td>18.6</td><td>Unknown     </td><td>0</td></tr>\n",
       "\t<tr><td>19723</td><td>Female</td><td>35</td><td>0</td><td>0</td><td>Yes</td><td>Self-employed</td><td>Rural</td><td> 82.99</td><td>30.6</td><td>never smoked</td><td>0</td></tr>\n",
       "\t<tr><td>44679</td><td>Female</td><td>44</td><td>0</td><td>0</td><td>Yes</td><td>Govt_job     </td><td>Urban</td><td> 85.28</td><td>26.2</td><td>Unknown     </td><td>0</td></tr>\n",
       "</tbody>\n",
       "</table>\n"
      ],
      "text/latex": [
       "A tibble: 3681 × 12\n",
       "\\begin{tabular}{llllllllllll}\n",
       " id & gender & age & hypertension & heart\\_disease & ever\\_married & work\\_type & Residence\\_type & avg\\_glucose\\_level & bmi & smoking\\_status & stroke\\\\\n",
       " <dbl> & <chr> & <dbl> & <dbl> & <dbl> & <chr> & <chr> & <chr> & <dbl> & <dbl> & <chr> & <dbl>\\\\\n",
       "\\hline\n",
       "\t  9046 & Male   & 67 & 0 & 1 & Yes & Private       & Urban & 228.69 & 36.6 & formerly smoked & 1\\\\\n",
       "\t 31112 & Male   & 80 & 0 & 1 & Yes & Private       & Rural & 105.92 & 32.5 & never smoked    & 1\\\\\n",
       "\t 60182 & Female & 49 & 0 & 0 & Yes & Private       & Urban & 171.23 & 34.4 & smokes          & 1\\\\\n",
       "\t  1665 & Female & 79 & 1 & 0 & Yes & Self-employed & Rural & 174.12 & 24.0 & never smoked    & 1\\\\\n",
       "\t ⋮ & ⋮ & ⋮ & ⋮ & ⋮ & ⋮ & ⋮ & ⋮ & ⋮ & ⋮ & ⋮ & ⋮\\\\\n",
       "\t 22127 & Female & 18 & 0 & 0 & No  & Private       & Urban &  82.85 & 46.9 & Unknown      & 0\\\\\n",
       "\t 14180 & Female & 13 & 0 & 0 & No  & children      & Rural & 103.08 & 18.6 & Unknown      & 0\\\\\n",
       "\t 19723 & Female & 35 & 0 & 0 & Yes & Self-employed & Rural &  82.99 & 30.6 & never smoked & 0\\\\\n",
       "\t 44679 & Female & 44 & 0 & 0 & Yes & Govt\\_job      & Urban &  85.28 & 26.2 & Unknown      & 0\\\\\n",
       "\\end{tabular}\n"
      ],
      "text/markdown": [
       "\n",
       "A tibble: 3681 × 12\n",
       "\n",
       "| id &lt;dbl&gt; | gender &lt;chr&gt; | age &lt;dbl&gt; | hypertension &lt;dbl&gt; | heart_disease &lt;dbl&gt; | ever_married &lt;chr&gt; | work_type &lt;chr&gt; | Residence_type &lt;chr&gt; | avg_glucose_level &lt;dbl&gt; | bmi &lt;dbl&gt; | smoking_status &lt;chr&gt; | stroke &lt;dbl&gt; |\n",
       "|---|---|---|---|---|---|---|---|---|---|---|---|\n",
       "|  9046 | Male   | 67 | 0 | 1 | Yes | Private       | Urban | 228.69 | 36.6 | formerly smoked | 1 |\n",
       "| 31112 | Male   | 80 | 0 | 1 | Yes | Private       | Rural | 105.92 | 32.5 | never smoked    | 1 |\n",
       "| 60182 | Female | 49 | 0 | 0 | Yes | Private       | Urban | 171.23 | 34.4 | smokes          | 1 |\n",
       "|  1665 | Female | 79 | 1 | 0 | Yes | Self-employed | Rural | 174.12 | 24.0 | never smoked    | 1 |\n",
       "| ⋮ | ⋮ | ⋮ | ⋮ | ⋮ | ⋮ | ⋮ | ⋮ | ⋮ | ⋮ | ⋮ | ⋮ |\n",
       "| 22127 | Female | 18 | 0 | 0 | No  | Private       | Urban |  82.85 | 46.9 | Unknown      | 0 |\n",
       "| 14180 | Female | 13 | 0 | 0 | No  | children      | Rural | 103.08 | 18.6 | Unknown      | 0 |\n",
       "| 19723 | Female | 35 | 0 | 0 | Yes | Self-employed | Rural |  82.99 | 30.6 | never smoked | 0 |\n",
       "| 44679 | Female | 44 | 0 | 0 | Yes | Govt_job      | Urban |  85.28 | 26.2 | Unknown      | 0 |\n",
       "\n"
      ],
      "text/plain": [
       "     id    gender age hypertension heart_disease ever_married work_type    \n",
       "1     9046 Male   67  0            1             Yes          Private      \n",
       "2    31112 Male   80  0            1             Yes          Private      \n",
       "3    60182 Female 49  0            0             Yes          Private      \n",
       "4     1665 Female 79  1            0             Yes          Self-employed\n",
       "⋮    ⋮     ⋮      ⋮   ⋮            ⋮             ⋮            ⋮            \n",
       "3678 22127 Female 18  0            0             No           Private      \n",
       "3679 14180 Female 13  0            0             No           children     \n",
       "3680 19723 Female 35  0            0             Yes          Self-employed\n",
       "3681 44679 Female 44  0            0             Yes          Govt_job     \n",
       "     Residence_type avg_glucose_level bmi  smoking_status  stroke\n",
       "1    Urban          228.69            36.6 formerly smoked 1     \n",
       "2    Rural          105.92            32.5 never smoked    1     \n",
       "3    Urban          171.23            34.4 smokes          1     \n",
       "4    Rural          174.12            24.0 never smoked    1     \n",
       "⋮    ⋮              ⋮                 ⋮    ⋮               ⋮     \n",
       "3678 Urban           82.85            46.9 Unknown         0     \n",
       "3679 Rural          103.08            18.6 Unknown         0     \n",
       "3680 Rural           82.99            30.6 never smoked    0     \n",
       "3681 Urban           85.28            26.2 Unknown         0     "
      ]
     },
     "metadata": {},
     "output_type": "display_data"
    }
   ],
   "source": [
    "#ensures reproducibility\n",
    "set.seed(1234)\n",
    "\n",
    "#reading dataset into R\n",
    "url <- \"https://raw.githubusercontent.com/ersq/Group-42-Group-Project/main/healthcare-dataset-stroke-data.csv\"\n",
    "stroke_data <- read_csv(url) |>\n",
    "\n",
    "#removes N/A values in bmi column\n",
    "#3832 - 3687 = 145 rows that have missing data in bmi column\n",
    "filter(bmi != \"N/A\") |>\n",
    "\n",
    "#turns bmi column into dbl (previously chr)\n",
    "mutate(bmi = as.numeric(bmi))\n",
    "\n",
    "#splits data into training and testing sets\n",
    "stroke_split <- initial_split(stroke_data, prop = 0.75, strata = stroke) \n",
    "    stroke_train <- training(stroke_split)\n",
    "    stroke_test <- testing(stroke_split)\n",
    "\n",
    "stroke_train\n",
    "   \n"
   ]
  },
  {
   "cell_type": "code",
   "execution_count": 3,
   "id": "3553f5b5-8c5b-4642-b753-4d707243dd6b",
   "metadata": {},
   "outputs": [
    {
     "data": {
      "text/html": [
       "<table class=\"dataframe\">\n",
       "<caption>A tibble: 2 × 3</caption>\n",
       "<thead>\n",
       "\t<tr><th scope=col>stroke</th><th scope=col>avg_gluc</th><th scope=col>glucose_sd</th></tr>\n",
       "\t<tr><th scope=col>&lt;dbl&gt;</th><th scope=col>&lt;dbl&gt;</th><th scope=col>&lt;dbl&gt;</th></tr>\n",
       "</thead>\n",
       "<tbody>\n",
       "\t<tr><td>0</td><td>104.0971</td><td>43.00469</td></tr>\n",
       "\t<tr><td>1</td><td>130.2590</td><td>60.70169</td></tr>\n",
       "</tbody>\n",
       "</table>\n"
      ],
      "text/latex": [
       "A tibble: 2 × 3\n",
       "\\begin{tabular}{lll}\n",
       " stroke & avg\\_gluc & glucose\\_sd\\\\\n",
       " <dbl> & <dbl> & <dbl>\\\\\n",
       "\\hline\n",
       "\t 0 & 104.0971 & 43.00469\\\\\n",
       "\t 1 & 130.2590 & 60.70169\\\\\n",
       "\\end{tabular}\n"
      ],
      "text/markdown": [
       "\n",
       "A tibble: 2 × 3\n",
       "\n",
       "| stroke &lt;dbl&gt; | avg_gluc &lt;dbl&gt; | glucose_sd &lt;dbl&gt; |\n",
       "|---|---|---|\n",
       "| 0 | 104.0971 | 43.00469 |\n",
       "| 1 | 130.2590 | 60.70169 |\n",
       "\n"
      ],
      "text/plain": [
       "  stroke avg_gluc glucose_sd\n",
       "1 0      104.0971 43.00469  \n",
       "2 1      130.2590 60.70169  "
      ]
     },
     "metadata": {},
     "output_type": "display_data"
    },
    {
     "data": {
      "text/html": [
       "<table class=\"dataframe\">\n",
       "<caption>A tibble: 2 × 3</caption>\n",
       "<thead>\n",
       "\t<tr><th scope=col>stroke</th><th scope=col>avg_BMI</th><th scope=col>bmi_sd</th></tr>\n",
       "\t<tr><th scope=col>&lt;dbl&gt;</th><th scope=col>&lt;dbl&gt;</th><th scope=col>&lt;dbl&gt;</th></tr>\n",
       "</thead>\n",
       "<tbody>\n",
       "\t<tr><td>0</td><td>28.83380</td><td>7.988864</td></tr>\n",
       "\t<tr><td>1</td><td>30.32349</td><td>6.584278</td></tr>\n",
       "</tbody>\n",
       "</table>\n"
      ],
      "text/latex": [
       "A tibble: 2 × 3\n",
       "\\begin{tabular}{lll}\n",
       " stroke & avg\\_BMI & bmi\\_sd\\\\\n",
       " <dbl> & <dbl> & <dbl>\\\\\n",
       "\\hline\n",
       "\t 0 & 28.83380 & 7.988864\\\\\n",
       "\t 1 & 30.32349 & 6.584278\\\\\n",
       "\\end{tabular}\n"
      ],
      "text/markdown": [
       "\n",
       "A tibble: 2 × 3\n",
       "\n",
       "| stroke &lt;dbl&gt; | avg_BMI &lt;dbl&gt; | bmi_sd &lt;dbl&gt; |\n",
       "|---|---|---|\n",
       "| 0 | 28.83380 | 7.988864 |\n",
       "| 1 | 30.32349 | 6.584278 |\n",
       "\n"
      ],
      "text/plain": [
       "  stroke avg_BMI  bmi_sd  \n",
       "1 0      28.83380 7.988864\n",
       "2 1      30.32349 6.584278"
      ]
     },
     "metadata": {},
     "output_type": "display_data"
    },
    {
     "data": {
      "text/html": [
       "<table class=\"dataframe\">\n",
       "<caption>A tibble: 2 × 3</caption>\n",
       "<thead>\n",
       "\t<tr><th scope=col>stroke</th><th scope=col>avg_age</th><th scope=col>age_sd</th></tr>\n",
       "\t<tr><th scope=col>&lt;dbl&gt;</th><th scope=col>&lt;dbl&gt;</th><th scope=col>&lt;dbl&gt;</th></tr>\n",
       "</thead>\n",
       "<tbody>\n",
       "\t<tr><td>0</td><td>41.89763</td><td>22.19182</td></tr>\n",
       "\t<tr><td>1</td><td>67.56627</td><td>12.79459</td></tr>\n",
       "</tbody>\n",
       "</table>\n"
      ],
      "text/latex": [
       "A tibble: 2 × 3\n",
       "\\begin{tabular}{lll}\n",
       " stroke & avg\\_age & age\\_sd\\\\\n",
       " <dbl> & <dbl> & <dbl>\\\\\n",
       "\\hline\n",
       "\t 0 & 41.89763 & 22.19182\\\\\n",
       "\t 1 & 67.56627 & 12.79459\\\\\n",
       "\\end{tabular}\n"
      ],
      "text/markdown": [
       "\n",
       "A tibble: 2 × 3\n",
       "\n",
       "| stroke &lt;dbl&gt; | avg_age &lt;dbl&gt; | age_sd &lt;dbl&gt; |\n",
       "|---|---|---|\n",
       "| 0 | 41.89763 | 22.19182 |\n",
       "| 1 | 67.56627 | 12.79459 |\n",
       "\n"
      ],
      "text/plain": [
       "  stroke avg_age  age_sd  \n",
       "1 0      41.89763 22.19182\n",
       "2 1      67.56627 12.79459"
      ]
     },
     "metadata": {},
     "output_type": "display_data"
    },
    {
     "name": "stderr",
     "output_type": "stream",
     "text": [
      "\u001b[1m\u001b[22m`summarise()` has grouped output by 'stroke'. You can override using the\n",
      "`.groups` argument.\n"
     ]
    },
    {
     "data": {
      "text/html": [
       "<table class=\"dataframe\">\n",
       "<caption>A grouped_df: 8 × 3</caption>\n",
       "<thead>\n",
       "\t<tr><th scope=col>stroke</th><th scope=col>smoking_status</th><th scope=col>number_of_people</th></tr>\n",
       "\t<tr><th scope=col>&lt;dbl&gt;</th><th scope=col>&lt;chr&gt;</th><th scope=col>&lt;int&gt;</th></tr>\n",
       "</thead>\n",
       "<tbody>\n",
       "\t<tr><td>0</td><td>formerly smoked</td><td> 570</td></tr>\n",
       "\t<tr><td>0</td><td>never smoked   </td><td>1338</td></tr>\n",
       "\t<tr><td>0</td><td>smokes         </td><td> 527</td></tr>\n",
       "\t<tr><td>0</td><td>Unknown        </td><td>1080</td></tr>\n",
       "\t<tr><td>1</td><td>formerly smoked</td><td>  46</td></tr>\n",
       "\t<tr><td>1</td><td>never smoked   </td><td>  65</td></tr>\n",
       "\t<tr><td>1</td><td>smokes         </td><td>  31</td></tr>\n",
       "\t<tr><td>1</td><td>Unknown        </td><td>  24</td></tr>\n",
       "</tbody>\n",
       "</table>\n"
      ],
      "text/latex": [
       "A grouped\\_df: 8 × 3\n",
       "\\begin{tabular}{lll}\n",
       " stroke & smoking\\_status & number\\_of\\_people\\\\\n",
       " <dbl> & <chr> & <int>\\\\\n",
       "\\hline\n",
       "\t 0 & formerly smoked &  570\\\\\n",
       "\t 0 & never smoked    & 1338\\\\\n",
       "\t 0 & smokes          &  527\\\\\n",
       "\t 0 & Unknown         & 1080\\\\\n",
       "\t 1 & formerly smoked &   46\\\\\n",
       "\t 1 & never smoked    &   65\\\\\n",
       "\t 1 & smokes          &   31\\\\\n",
       "\t 1 & Unknown         &   24\\\\\n",
       "\\end{tabular}\n"
      ],
      "text/markdown": [
       "\n",
       "A grouped_df: 8 × 3\n",
       "\n",
       "| stroke &lt;dbl&gt; | smoking_status &lt;chr&gt; | number_of_people &lt;int&gt; |\n",
       "|---|---|---|\n",
       "| 0 | formerly smoked |  570 |\n",
       "| 0 | never smoked    | 1338 |\n",
       "| 0 | smokes          |  527 |\n",
       "| 0 | Unknown         | 1080 |\n",
       "| 1 | formerly smoked |   46 |\n",
       "| 1 | never smoked    |   65 |\n",
       "| 1 | smokes          |   31 |\n",
       "| 1 | Unknown         |   24 |\n",
       "\n"
      ],
      "text/plain": [
       "  stroke smoking_status  number_of_people\n",
       "1 0      formerly smoked  570            \n",
       "2 0      never smoked    1338            \n",
       "3 0      smokes           527            \n",
       "4 0      Unknown         1080            \n",
       "5 1      formerly smoked   46            \n",
       "6 1      never smoked      65            \n",
       "7 1      smokes            31            \n",
       "8 1      Unknown           24            "
      ]
     },
     "metadata": {},
     "output_type": "display_data"
    },
    {
     "name": "stderr",
     "output_type": "stream",
     "text": [
      "\u001b[1m\u001b[22m`summarise()` has grouped output by 'stroke'. You can override using the\n",
      "`.groups` argument.\n"
     ]
    },
    {
     "data": {
      "text/html": [
       "<table class=\"dataframe\">\n",
       "<caption>A grouped_df: 4 × 3</caption>\n",
       "<thead>\n",
       "\t<tr><th scope=col>stroke</th><th scope=col>heart_disease</th><th scope=col>number_of_people</th></tr>\n",
       "\t<tr><th scope=col>&lt;dbl&gt;</th><th scope=col>&lt;dbl&gt;</th><th scope=col>&lt;int&gt;</th></tr>\n",
       "</thead>\n",
       "<tbody>\n",
       "\t<tr><td>0</td><td>0</td><td>3362</td></tr>\n",
       "\t<tr><td>0</td><td>1</td><td> 153</td></tr>\n",
       "\t<tr><td>1</td><td>0</td><td> 136</td></tr>\n",
       "\t<tr><td>1</td><td>1</td><td>  30</td></tr>\n",
       "</tbody>\n",
       "</table>\n"
      ],
      "text/latex": [
       "A grouped\\_df: 4 × 3\n",
       "\\begin{tabular}{lll}\n",
       " stroke & heart\\_disease & number\\_of\\_people\\\\\n",
       " <dbl> & <dbl> & <int>\\\\\n",
       "\\hline\n",
       "\t 0 & 0 & 3362\\\\\n",
       "\t 0 & 1 &  153\\\\\n",
       "\t 1 & 0 &  136\\\\\n",
       "\t 1 & 1 &   30\\\\\n",
       "\\end{tabular}\n"
      ],
      "text/markdown": [
       "\n",
       "A grouped_df: 4 × 3\n",
       "\n",
       "| stroke &lt;dbl&gt; | heart_disease &lt;dbl&gt; | number_of_people &lt;int&gt; |\n",
       "|---|---|---|\n",
       "| 0 | 0 | 3362 |\n",
       "| 0 | 1 |  153 |\n",
       "| 1 | 0 |  136 |\n",
       "| 1 | 1 |   30 |\n",
       "\n"
      ],
      "text/plain": [
       "  stroke heart_disease number_of_people\n",
       "1 0      0             3362            \n",
       "2 0      1              153            \n",
       "3 1      0              136            \n",
       "4 1      1               30            "
      ]
     },
     "metadata": {},
     "output_type": "display_data"
    }
   ],
   "source": [
    "#ensures reproducibility\n",
    "set.seed(1234)\n",
    "\n",
    "# the average glucose level of stroke/no stroke\n",
    "stroke_train |> \n",
    "group_by(stroke) |>\n",
    "summarize(avg_gluc = mean(avg_glucose_level), glucose_sd = sd(avg_glucose_level))\n",
    "\n",
    "# the average bmi of stroke/no stroke\n",
    "stroke_train |> \n",
    "group_by(stroke) |>\n",
    "summarize(avg_BMI = mean(bmi), bmi_sd = sd(bmi))\n",
    "\n",
    "# the average age of stroke/no stroke\n",
    "\n",
    "stroke_train |>\n",
    "group_by(stroke) |>\n",
    "summarize(avg_age = mean(age), age_sd = sd(age))\n",
    "\n",
    "# the number of people for each smoking status of stroke/no stroke\n",
    "stroke_train |>\n",
    "group_by(stroke, smoking_status) |>\n",
    "summarize(number_of_people = n())\n",
    "    #will not use smoking_status as a predictor variable; summarized statistics seem to contradict common sense\n",
    "\n",
    "\n",
    "# the number of people with/without heart disease\n",
    "stroke_train |>\n",
    "group_by(stroke, heart_disease) |>\n",
    "summarize(number_of_people = n())\n",
    "    #will not use heart_disease as a predictor variable; summarized statistics seem to contradict common sense"
   ]
  },
  {
   "cell_type": "code",
   "execution_count": 4,
   "id": "b8954beb-2f31-42b4-be2a-569607e76a9f",
   "metadata": {},
   "outputs": [
    {
     "name": "stderr",
     "output_type": "stream",
     "text": [
      "`stat_bin()` using `bins = 30`. Pick better value with `binwidth`.\n",
      "\n",
      "Warning message:\n",
      "“Removed 44 rows containing missing values (geom_bar).”\n"
     ]
    },
    {
     "data": {
      "image/png": "[encoded data removed]",
      "text/plain": [
       "plot without title"
      ]
     },
     "metadata": {
      "image/png": {
       "height": 720,
       "width": 720
      }
     },
     "output_type": "display_data"
    }
   ],
   "source": [
    "options(repr.plot.width=12, repr.plot.height=12)\n",
    "\n",
    "# This is the frame that is only used for plotting\n",
    "# It generalizes the bmi for plotting and convert stroke to char so that it can be used as the 'fill' argument.\n",
    "stroke_train_for_plot <- stroke_train |>\n",
    "    mutate(generalized_bmi = floor(floor(as.double(bmi))/10)*10) |>\n",
    "    mutate(stroke_or_not = as.character(stroke))\n",
    "\n",
    "# This bar graph visualizes the relationship between Body Mass Index and whether the person has a stroke or not\n",
    "bmi_plot <- stroke_train_for_plot |>\n",
    "    ggplot(aes(x = generalized_bmi, fill = stroke_or_not)) +\n",
    "    geom_histogram(position = 'fill') +\n",
    "    labs(fill = 'Stroke or Not?', x = 'Body Mass Index', y = 'Proportion') +\n",
    "    scale_fill_discrete(labels = c('No', 'Yes'))\n",
    "\n",
    "bmi_plot"
   ]
  },
  {
   "cell_type": "code",
   "execution_count": 36,
   "id": "a03d73cf-e81f-404c-9a06-e02cfd650612",
   "metadata": {},
   "outputs": [
    {
     "data": {
      "text/html": [
       "<table class=\"dataframe\">\n",
       "<caption>A tibble: 10 × 7</caption>\n",
       "<thead>\n",
       "\t<tr><th scope=col>neighbors</th><th scope=col>.metric</th><th scope=col>.estimator</th><th scope=col>mean</th><th scope=col>n</th><th scope=col>std_err</th><th scope=col>.config</th></tr>\n",
       "\t<tr><th scope=col>&lt;dbl&gt;</th><th scope=col>&lt;chr&gt;</th><th scope=col>&lt;chr&gt;</th><th scope=col>&lt;dbl&gt;</th><th scope=col>&lt;int&gt;</th><th scope=col>&lt;dbl&gt;</th><th scope=col>&lt;chr&gt;</th></tr>\n",
       "</thead>\n",
       "<tbody>\n",
       "\t<tr><td> 1</td><td>accuracy</td><td>binary</td><td>0.9236649</td><td>5</td><td>0.004159599</td><td>Preprocessor1_Model01</td></tr>\n",
       "\t<tr><td> 6</td><td>accuracy</td><td>binary</td><td>0.9516437</td><td>5</td><td>0.002994727</td><td>Preprocessor1_Model02</td></tr>\n",
       "\t<tr><td>11</td><td>accuracy</td><td>binary</td><td>0.9546325</td><td>5</td><td>0.002294745</td><td>Preprocessor1_Model03</td></tr>\n",
       "\t<tr><td>16</td><td>accuracy</td><td>binary</td><td>0.9549042</td><td>5</td><td>0.002365669</td><td>Preprocessor1_Model04</td></tr>\n",
       "\t<tr><td>⋮</td><td>⋮</td><td>⋮</td><td>⋮</td><td>⋮</td><td>⋮</td><td>⋮</td></tr>\n",
       "\t<tr><td>31</td><td>accuracy</td><td>binary</td><td>0.9549042</td><td>5</td><td>0.002365669</td><td>Preprocessor1_Model07</td></tr>\n",
       "\t<tr><td>36</td><td>accuracy</td><td>binary</td><td>0.9549042</td><td>5</td><td>0.002365669</td><td>Preprocessor1_Model08</td></tr>\n",
       "\t<tr><td>41</td><td>accuracy</td><td>binary</td><td>0.9549042</td><td>5</td><td>0.002365669</td><td>Preprocessor1_Model09</td></tr>\n",
       "\t<tr><td>46</td><td>accuracy</td><td>binary</td><td>0.9549042</td><td>5</td><td>0.002365669</td><td>Preprocessor1_Model10</td></tr>\n",
       "</tbody>\n",
       "</table>\n"
      ],
      "text/latex": [
       "A tibble: 10 × 7\n",
       "\\begin{tabular}{lllllll}\n",
       " neighbors & .metric & .estimator & mean & n & std\\_err & .config\\\\\n",
       " <dbl> & <chr> & <chr> & <dbl> & <int> & <dbl> & <chr>\\\\\n",
       "\\hline\n",
       "\t  1 & accuracy & binary & 0.9236649 & 5 & 0.004159599 & Preprocessor1\\_Model01\\\\\n",
       "\t  6 & accuracy & binary & 0.9516437 & 5 & 0.002994727 & Preprocessor1\\_Model02\\\\\n",
       "\t 11 & accuracy & binary & 0.9546325 & 5 & 0.002294745 & Preprocessor1\\_Model03\\\\\n",
       "\t 16 & accuracy & binary & 0.9549042 & 5 & 0.002365669 & Preprocessor1\\_Model04\\\\\n",
       "\t ⋮ & ⋮ & ⋮ & ⋮ & ⋮ & ⋮ & ⋮\\\\\n",
       "\t 31 & accuracy & binary & 0.9549042 & 5 & 0.002365669 & Preprocessor1\\_Model07\\\\\n",
       "\t 36 & accuracy & binary & 0.9549042 & 5 & 0.002365669 & Preprocessor1\\_Model08\\\\\n",
       "\t 41 & accuracy & binary & 0.9549042 & 5 & 0.002365669 & Preprocessor1\\_Model09\\\\\n",
       "\t 46 & accuracy & binary & 0.9549042 & 5 & 0.002365669 & Preprocessor1\\_Model10\\\\\n",
       "\\end{tabular}\n"
      ],
      "text/markdown": [
       "\n",
       "A tibble: 10 × 7\n",
       "\n",
       "| neighbors &lt;dbl&gt; | .metric &lt;chr&gt; | .estimator &lt;chr&gt; | mean &lt;dbl&gt; | n &lt;int&gt; | std_err &lt;dbl&gt; | .config &lt;chr&gt; |\n",
       "|---|---|---|---|---|---|---|\n",
       "|  1 | accuracy | binary | 0.9236649 | 5 | 0.004159599 | Preprocessor1_Model01 |\n",
       "|  6 | accuracy | binary | 0.9516437 | 5 | 0.002994727 | Preprocessor1_Model02 |\n",
       "| 11 | accuracy | binary | 0.9546325 | 5 | 0.002294745 | Preprocessor1_Model03 |\n",
       "| 16 | accuracy | binary | 0.9549042 | 5 | 0.002365669 | Preprocessor1_Model04 |\n",
       "| ⋮ | ⋮ | ⋮ | ⋮ | ⋮ | ⋮ | ⋮ |\n",
       "| 31 | accuracy | binary | 0.9549042 | 5 | 0.002365669 | Preprocessor1_Model07 |\n",
       "| 36 | accuracy | binary | 0.9549042 | 5 | 0.002365669 | Preprocessor1_Model08 |\n",
       "| 41 | accuracy | binary | 0.9549042 | 5 | 0.002365669 | Preprocessor1_Model09 |\n",
       "| 46 | accuracy | binary | 0.9549042 | 5 | 0.002365669 | Preprocessor1_Model10 |\n",
       "\n"
      ],
      "text/plain": [
       "   neighbors .metric  .estimator mean      n std_err     .config              \n",
       "1   1        accuracy binary     0.9236649 5 0.004159599 Preprocessor1_Model01\n",
       "2   6        accuracy binary     0.9516437 5 0.002994727 Preprocessor1_Model02\n",
       "3  11        accuracy binary     0.9546325 5 0.002294745 Preprocessor1_Model03\n",
       "4  16        accuracy binary     0.9549042 5 0.002365669 Preprocessor1_Model04\n",
       "⋮  ⋮         ⋮        ⋮          ⋮         ⋮ ⋮           ⋮                    \n",
       "7  31        accuracy binary     0.9549042 5 0.002365669 Preprocessor1_Model07\n",
       "8  36        accuracy binary     0.9549042 5 0.002365669 Preprocessor1_Model08\n",
       "9  41        accuracy binary     0.9549042 5 0.002365669 Preprocessor1_Model09\n",
       "10 46        accuracy binary     0.9549042 5 0.002365669 Preprocessor1_Model10"
      ]
     },
     "metadata": {},
     "output_type": "display_data"
    },
    {
     "data": {
      "image/png": "[encoded data removed]",
      "text/plain": [
       "plot without title"
      ]
     },
     "metadata": {
      "image/png": {
       "height": 480,
       "width": 480
      }
     },
     "output_type": "display_data"
    }
   ],
   "source": [
    "#performing 5-fold cross-validation\n",
    "set.seed(8888)\n",
    "\n",
    "options(repr.plot.height = 8, repr.plot.width = 8)\n",
    "\n",
    "stroke_train <- stroke_train |>\n",
    "    mutate(stroke = as.factor(stroke))\n",
    "\n",
    "knn_spec <- nearest_neighbor(weight_func = \"rectangular\", neighbors = tune()) |>\n",
    "    set_engine(\"kknn\") |>\n",
    "    set_mode(\"classification\")\n",
    "\n",
    "stroke_recipe <- recipe(stroke ~ age + bmi + avg_glucose_level, data = stroke_train)\n",
    "\n",
    "stroke_vfold <- vfold_cv(stroke_train, v = 5, strata = stroke)\n",
    "\n",
    "k_vals <- tibble(neighbors = seq(from = 1, to = 50, by = 5))\n",
    "\n",
    "knn_results <- workflow() |>\n",
    "  add_recipe(stroke_recipe) |>\n",
    "  add_model(knn_spec) |>\n",
    "  tune_grid(resamples = stroke_vfold, grid = k_vals) |>\n",
    "  collect_metrics() \n",
    "\n",
    "accuracies <- knn_results |>\n",
    "  filter(.metric == \"accuracy\")\n",
    "\n",
    "accuracies\n",
    "\n",
    "cross_validation_plot <- accuracies |>\n",
    "    ggplot(aes(x = neighbors, y = mean)) +\n",
    "        geom_point() +\n",
    "        geom_line() +\n",
    "    labs(x = \"Neighbors\", y = \"Accuracy Estimate\") +\n",
    "    theme(text = element_text(size = 20))\n",
    "\n",
    "cross_validation_plot"
   ]
  },
  {
   "cell_type": "code",
   "execution_count": 37,
   "id": "3a7a970b-aed6-4017-916a-ead01edd5c28",
   "metadata": {},
   "outputs": [
    {
     "data": {
      "text/plain": [
       "══ Workflow [trained] ══════════════════════════════════════════════════════════\n",
       "\u001b[3mPreprocessor:\u001b[23m Recipe\n",
       "\u001b[3mModel:\u001b[23m nearest_neighbor()\n",
       "\n",
       "── Preprocessor ────────────────────────────────────────────────────────────────\n",
       "0 Recipe Steps\n",
       "\n",
       "── Model ───────────────────────────────────────────────────────────────────────\n",
       "\n",
       "Call:\n",
       "kknn::train.kknn(formula = ..y ~ ., data = data, ks = min_rows(11,     data, 5), kernel = ~\"rectangular\")\n",
       "\n",
       "Type of response variable: nominal\n",
       "Minimal misclassification: 0.04563977\n",
       "Best kernel: rectangular\n",
       "Best k: 11"
      ]
     },
     "metadata": {},
     "output_type": "display_data"
    }
   ],
   "source": [
    "#retraining classifier with best K value\n",
    "set.seed(1234)\n",
    "\n",
    "stroke_spec <- nearest_neighbor(weight_func = \"rectangular\", neighbors = 11) |>\n",
    "       set_engine(\"kknn\") |>\n",
    "       set_mode(\"classification\")\n",
    "\n",
    "\n",
    "stroke_fit <- workflow() |>\n",
    "             add_recipe(stroke_recipe) |>\n",
    "             add_model(stroke_spec) |>\n",
    "            fit(data = stroke_train)\n",
    "stroke_fit"
   ]
  },
  {
   "cell_type": "code",
   "execution_count": 38,
   "id": "daed1a1c-dac4-4519-9f72-b9d119f7ac40",
   "metadata": {},
   "outputs": [
    {
     "data": {
      "text/html": [
       "<table class=\"dataframe\">\n",
       "<caption>A tibble: 1 × 3</caption>\n",
       "<thead>\n",
       "\t<tr><th scope=col>.metric</th><th scope=col>.estimator</th><th scope=col>.estimate</th></tr>\n",
       "\t<tr><th scope=col>&lt;chr&gt;</th><th scope=col>&lt;chr&gt;</th><th scope=col>&lt;dbl&gt;</th></tr>\n",
       "</thead>\n",
       "<tbody>\n",
       "\t<tr><td>accuracy</td><td>binary</td><td>0.963355</td></tr>\n",
       "</tbody>\n",
       "</table>\n"
      ],
      "text/latex": [
       "A tibble: 1 × 3\n",
       "\\begin{tabular}{lll}\n",
       " .metric & .estimator & .estimate\\\\\n",
       " <chr> & <chr> & <dbl>\\\\\n",
       "\\hline\n",
       "\t accuracy & binary & 0.963355\\\\\n",
       "\\end{tabular}\n"
      ],
      "text/markdown": [
       "\n",
       "A tibble: 1 × 3\n",
       "\n",
       "| .metric &lt;chr&gt; | .estimator &lt;chr&gt; | .estimate &lt;dbl&gt; |\n",
       "|---|---|---|\n",
       "| accuracy | binary | 0.963355 |\n",
       "\n"
      ],
      "text/plain": [
       "  .metric  .estimator .estimate\n",
       "1 accuracy binary     0.963355 "
      ]
     },
     "metadata": {},
     "output_type": "display_data"
    },
    {
     "data": {
      "text/plain": [
       "          Truth\n",
       "Prediction    0    1\n",
       "         0 1183   43\n",
       "         1    2    0"
      ]
     },
     "metadata": {},
     "output_type": "display_data"
    }
   ],
   "source": [
    "#evaluting classifiers accuracy on testing set\n",
    "set.seed(1234)\n",
    "\n",
    "stroke_test <- stroke_test |>\n",
    "    mutate(stroke = as.factor(stroke))\n",
    "\n",
    "stroke_predictions <- predict(stroke_fit, stroke_test) |>\n",
    "                        bind_cols(stroke_test)\n",
    "\n",
    "stroke_metrics <- stroke_predictions |>\n",
    "    metrics(truth = stroke, estimate = .pred_class) |>\n",
    "    filter(.metric == \"accuracy\")\n",
    "\n",
    "stroke_metrics\n",
    "\n",
    "stroke_conf_mat <- stroke_predictions |>\n",
    "    conf_mat(truth = stroke, estimate = .pred_class)\n",
    "\n",
    "stroke_conf_mat"
   ]
  },
  {
   "cell_type": "markdown",
   "id": "b894e5ba-6169-4f0f-81f4-6d1a0d47d6a6",
   "metadata": {},
   "source": [
    "### **Discussion:**\n",
    "\n",
    "\n",
    "The analysis of the Stroke Prediction Dataset can potentially provide insights into the risk factors associated with strokes. By examining multiple clinical features, the researchers can identify the most significant predictors of stroke occurrence, and develop a model that accurately predicts the likelihood of a stroke occurring in an individual.\n",
    "\n",
    "The findings of such research can have significant implications for public health. Early detection and prevention can help reduce the number of fatalities associated with the condition. \n",
    "\n",
    "Analysis can also lead to future questions related to stroke prevention and treatment. For instance, the researchers can examine the effectiveness of existing stroke prevention measures and identify areas for improvement. Additionally, the findings can lead to the development of new treatment and prevention strategies that can further reduce the incidence of strokes.\n"
   ]
  },
  {
   "cell_type": "markdown",
   "id": "091b3262-f1e7-4f4a-896c-b9e20f5dc7ba",
   "metadata": {},
   "source": [
    "### **References (APA):**\n",
    "\n"
   ]
  },
  {
   "cell_type": "markdown",
   "id": "f5ab5bc6-056f-4fd2-a1d1-2178dc5de024",
   "metadata": {},
   "source": [
    "Fedesoriano. (2021, January 26). *Stroke Prediction Dataset*. Kaggle. Retrieved April 6, 2023, from https://www.kaggle.com/datasets/fedesoriano/stroke-prediction-dataset?resource=download \n",
    "\n",
    "Heart and Stroke Foundation of Canada. (2022, December 20). *Stroke in Canada is on the rise*. Heart&Stroke . Retrieved April 6, 2023, from https://www.heartandstroke.ca/what-we-do/media-centre/news-releases/stroke-in-canada-is-on-the-rise#:~:text=A%20new%20study%20funded%20by,as%20well%20as%20better%20prevention. \n",
    "\n",
    "Katan, M., & Luft, A. (2018, May 23). *Global Burden of Stroke*. PubMed®. Retrieved April 6, 2023, from https://pubmed.ncbi.nlm.nih.gov/29791947/#:~:text=Stroke%20is%20the%20second%20leading,%2D%20and%20middle%2Dincome%20countries. \n",
    "\n",
    "\n"
   ]
  }
 ],
 "metadata": {
  "kernelspec": {
   "display_name": "R",
   "language": "R",
   "name": "ir"
  },
  "language_info": {
   "codemirror_mode": "r",
   "file_extension": ".r",
   "mimetype": "text/x-r-source",
   "name": "R",
   "pygments_lexer": "r",
   "version": "4.1.3"
  }
 },
 "nbformat": 4,
 "nbformat_minor": 5
}
