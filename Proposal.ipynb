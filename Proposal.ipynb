{
 "cells": [
  {
   "cell_type": "markdown",
   "id": "dc7c8f0c-351b-4c59-9812-704c172e9e5b",
   "metadata": {},
   "source": [
    "Title:"
   ]
  },
  {
   "cell_type": "code",
   "execution_count": null,
   "id": "a87b8dcd-bfb2-46fa-8611-15a604304229",
   "metadata": {},
   "outputs": [],
   "source": []
  }
 ],
 "metadata": {
  "kernelspec": {
   "display_name": "R",
   "language": "R",
   "name": "ir"
  },
  "language_info": {
   "codemirror_mode": "r",
   "file_extension": ".r",
   "mimetype": "text/x-r-source",
   "name": "R",
   "pygments_lexer": "r",
   "version": "4.1.3"
  }
 },
 "nbformat": 4,
 "nbformat_minor": 5
}
