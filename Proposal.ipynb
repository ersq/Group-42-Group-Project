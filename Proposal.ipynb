{
 "cells": [
  {
   "cell_type": "code",
   "execution_count": 24,
   "id": "b2ace3d2",
   "metadata": {
    "tags": []
   },
   "outputs": [],
   "source": [
    "library(tidyverse)\n",
    "library(repr)\n",
    "library(tidymodels)\n",
    "options(repr.matrix.max.rows = 8)\n"
   ]
  },
  {
   "cell_type": "markdown",
   "id": "a2766a82",
   "metadata": {},
   "source": [
    "## **Predicting the Chances of a Stroke**"
   ]
  },
  {
   "cell_type": "markdown",
   "id": "c7bb5e12",
   "metadata": {},
   "source": [
    "#### **Introduction:**\n",
    "\n",
    "Strokes are serious life-threatening medical conditions that happens when the blood supply to part of the brain is cut off. It is imperative that strokes are met with immediate treatment to prevent brain damage. According to the World Health Organization (WHO), strokes are the 2nd leading cause of death globally, responsible for approximately 11% of total deaths. \n",
    "\n",
    "Our project intends to accurately predict the chances of a stroke occuring in individuals by examining a variety of input parameters. (need to narrow this down)\n",
    "\n",
    "Stroke Prediction Dataset, the title of the dataset we chose for this project, was adapted from the kaggle data scientist fedesoriano. The dataset provides ten clinical features for predicting strokes: gender, age, hypertension, heart_disease, ever_married, work_type, residence_type, avg_glucose_level, bmi, and smoking_status.\n",
    "\n",
    "link to dataset: (https://www.kaggle.com/datasets/fedesoriano/stroke-prediction-dataset?resource=download)"
   ]
  },
  {
   "cell_type": "markdown",
   "id": "81872a8e",
   "metadata": {},
   "source": [
    "#### **Preliminary Exploratory Data Analysis:**\n",
    "**Reading and Tidying Data**"
   ]
  },
  {
   "cell_type": "code",
   "execution_count": 48,
   "id": "3ed5fcca",
   "metadata": {
    "tags": []
   },
   "outputs": [
    {
     "name": "stderr",
     "output_type": "stream",
     "text": [
      "\u001b[1mRows: \u001b[22m\u001b[34m5110\u001b[39m \u001b[1mColumns: \u001b[22m\u001b[34m12\u001b[39m\n",
      "\u001b[36m──\u001b[39m \u001b[1mColumn specification\u001b[22m \u001b[36m────────────────────────────────────────────────────────\u001b[39m\n",
      "\u001b[1mDelimiter:\u001b[22m \",\"\n",
      "\u001b[31mchr\u001b[39m (6): gender, ever_married, work_type, Residence_type, bmi, smoking_status\n",
      "\u001b[32mdbl\u001b[39m (6): id, age, hypertension, heart_disease, avg_glucose_level, stroke\n",
      "\n",
      "\u001b[36mℹ\u001b[39m Use `spec()` to retrieve the full column specification for this data.\n",
      "\u001b[36mℹ\u001b[39m Specify the column types or set `show_col_types = FALSE` to quiet this message.\n"
     ]
    },
    {
     "ename": "ERROR",
     "evalue": "Error in eval(expr, envir, enclos): object 's' not found\n",
     "output_type": "error",
     "traceback": [
      "Error in eval(expr, envir, enclos): object 's' not found\nTraceback:\n"
     ]
    }
   ],
   "source": [
    " #randomizes rows\n",
    "set.seed(1234)\n",
    "\n",
    "#reading dataset into R\n",
    "stroke_data <- read_csv(\"data/stroke_data.csv\")  %>%\n",
    "filter(bmi!= \"N/A\") %>%\n",
    "mutate(bmi = as.numeric(bmi))\n",
    "\n",
    "#splits data into training and testing sets\n",
    "stroke_split <- initial_split(stroke_data, prop = 0.75, strata = stroke) \n",
    "    stroke_train <- training(stroke_split)\n",
    "    stroke_test <- testing(stroke_split)\n",
    "\n",
    "s\n",
    "\n",
    " #removes N/A values in bmi column\n",
    " stroke_train <- filter(stroke_train, bmi != \"N/A\") \n",
    "    stroke_train  #3832 - 3687 = 145 rows that have missing data in bmi column\n",
    "   "
   ]
  },
  {
   "cell_type": "markdown",
   "id": "da4402ee-1cd7-43bc-ba20-0b4458402e75",
   "metadata": {},
   "source": [
    "**Summarized Data**"
   ]
  },
  {
   "cell_type": "code",
   "execution_count": 49,
   "id": "a066c189-c26c-4d29-ab09-2a71e0de2c49",
   "metadata": {},
   "outputs": [
    {
     "data": {
      "text/html": [
       "<table class=\"dataframe\">\n",
       "<caption>A tibble: 2 × 2</caption>\n",
       "<thead>\n",
       "\t<tr><th scope=col>stroke</th><th scope=col>avg_gluc</th></tr>\n",
       "\t<tr><th scope=col>&lt;dbl&gt;</th><th scope=col>&lt;dbl&gt;</th></tr>\n",
       "</thead>\n",
       "<tbody>\n",
       "\t<tr><td>0</td><td>104.0971</td></tr>\n",
       "\t<tr><td>1</td><td>130.2590</td></tr>\n",
       "</tbody>\n",
       "</table>\n"
      ],
      "text/latex": [
       "A tibble: 2 × 2\n",
       "\\begin{tabular}{ll}\n",
       " stroke & avg\\_gluc\\\\\n",
       " <dbl> & <dbl>\\\\\n",
       "\\hline\n",
       "\t 0 & 104.0971\\\\\n",
       "\t 1 & 130.2590\\\\\n",
       "\\end{tabular}\n"
      ],
      "text/markdown": [
       "\n",
       "A tibble: 2 × 2\n",
       "\n",
       "| stroke &lt;dbl&gt; | avg_gluc &lt;dbl&gt; |\n",
       "|---|---|\n",
       "| 0 | 104.0971 |\n",
       "| 1 | 130.2590 |\n",
       "\n"
      ],
      "text/plain": [
       "  stroke avg_gluc\n",
       "1 0      104.0971\n",
       "2 1      130.2590"
      ]
     },
     "metadata": {},
     "output_type": "display_data"
    },
    {
     "data": {
      "text/html": [
       "<table class=\"dataframe\">\n",
       "<caption>A tibble: 2 × 2</caption>\n",
       "<thead>\n",
       "\t<tr><th scope=col>stroke</th><th scope=col>avg_BMI</th></tr>\n",
       "\t<tr><th scope=col>&lt;dbl&gt;</th><th scope=col>&lt;dbl&gt;</th></tr>\n",
       "</thead>\n",
       "<tbody>\n",
       "\t<tr><td>0</td><td>28.83380</td></tr>\n",
       "\t<tr><td>1</td><td>30.32349</td></tr>\n",
       "</tbody>\n",
       "</table>\n"
      ],
      "text/latex": [
       "A tibble: 2 × 2\n",
       "\\begin{tabular}{ll}\n",
       " stroke & avg\\_BMI\\\\\n",
       " <dbl> & <dbl>\\\\\n",
       "\\hline\n",
       "\t 0 & 28.83380\\\\\n",
       "\t 1 & 30.32349\\\\\n",
       "\\end{tabular}\n"
      ],
      "text/markdown": [
       "\n",
       "A tibble: 2 × 2\n",
       "\n",
       "| stroke &lt;dbl&gt; | avg_BMI &lt;dbl&gt; |\n",
       "|---|---|\n",
       "| 0 | 28.83380 |\n",
       "| 1 | 30.32349 |\n",
       "\n"
      ],
      "text/plain": [
       "  stroke avg_BMI \n",
       "1 0      28.83380\n",
       "2 1      30.32349"
      ]
     },
     "metadata": {},
     "output_type": "display_data"
    },
    {
     "data": {
      "text/html": [
       "<table class=\"dataframe\">\n",
       "<caption>A tibble: 2 × 2</caption>\n",
       "<thead>\n",
       "\t<tr><th scope=col>stroke</th><th scope=col>avg_age</th></tr>\n",
       "\t<tr><th scope=col>&lt;dbl&gt;</th><th scope=col>&lt;dbl&gt;</th></tr>\n",
       "</thead>\n",
       "<tbody>\n",
       "\t<tr><td>0</td><td>41.89763</td></tr>\n",
       "\t<tr><td>1</td><td>67.56627</td></tr>\n",
       "</tbody>\n",
       "</table>\n"
      ],
      "text/latex": [
       "A tibble: 2 × 2\n",
       "\\begin{tabular}{ll}\n",
       " stroke & avg\\_age\\\\\n",
       " <dbl> & <dbl>\\\\\n",
       "\\hline\n",
       "\t 0 & 41.89763\\\\\n",
       "\t 1 & 67.56627\\\\\n",
       "\\end{tabular}\n"
      ],
      "text/markdown": [
       "\n",
       "A tibble: 2 × 2\n",
       "\n",
       "| stroke &lt;dbl&gt; | avg_age &lt;dbl&gt; |\n",
       "|---|---|\n",
       "| 0 | 41.89763 |\n",
       "| 1 | 67.56627 |\n",
       "\n"
      ],
      "text/plain": [
       "  stroke avg_age \n",
       "1 0      41.89763\n",
       "2 1      67.56627"
      ]
     },
     "metadata": {},
     "output_type": "display_data"
    },
    {
     "name": "stderr",
     "output_type": "stream",
     "text": [
      "\u001b[1m\u001b[22m`summarise()` has grouped output by 'stroke'. You can override using the\n",
      "`.groups` argument.\n"
     ]
    },
    {
     "data": {
      "text/html": [
       "<table class=\"dataframe\">\n",
       "<caption>A grouped_df: 8 × 3</caption>\n",
       "<thead>\n",
       "\t<tr><th scope=col>stroke</th><th scope=col>smoking_status</th><th scope=col>number_of_people</th></tr>\n",
       "\t<tr><th scope=col>&lt;dbl&gt;</th><th scope=col>&lt;chr&gt;</th><th scope=col>&lt;int&gt;</th></tr>\n",
       "</thead>\n",
       "<tbody>\n",
       "\t<tr><td>0</td><td>formerly smoked</td><td> 570</td></tr>\n",
       "\t<tr><td>0</td><td>never smoked   </td><td>1338</td></tr>\n",
       "\t<tr><td>0</td><td>smokes         </td><td> 527</td></tr>\n",
       "\t<tr><td>0</td><td>Unknown        </td><td>1080</td></tr>\n",
       "\t<tr><td>1</td><td>formerly smoked</td><td>  46</td></tr>\n",
       "\t<tr><td>1</td><td>never smoked   </td><td>  65</td></tr>\n",
       "\t<tr><td>1</td><td>smokes         </td><td>  31</td></tr>\n",
       "\t<tr><td>1</td><td>Unknown        </td><td>  24</td></tr>\n",
       "</tbody>\n",
       "</table>\n"
      ],
      "text/latex": [
       "A grouped\\_df: 8 × 3\n",
       "\\begin{tabular}{lll}\n",
       " stroke & smoking\\_status & number\\_of\\_people\\\\\n",
       " <dbl> & <chr> & <int>\\\\\n",
       "\\hline\n",
       "\t 0 & formerly smoked &  570\\\\\n",
       "\t 0 & never smoked    & 1338\\\\\n",
       "\t 0 & smokes          &  527\\\\\n",
       "\t 0 & Unknown         & 1080\\\\\n",
       "\t 1 & formerly smoked &   46\\\\\n",
       "\t 1 & never smoked    &   65\\\\\n",
       "\t 1 & smokes          &   31\\\\\n",
       "\t 1 & Unknown         &   24\\\\\n",
       "\\end{tabular}\n"
      ],
      "text/markdown": [
       "\n",
       "A grouped_df: 8 × 3\n",
       "\n",
       "| stroke &lt;dbl&gt; | smoking_status &lt;chr&gt; | number_of_people &lt;int&gt; |\n",
       "|---|---|---|\n",
       "| 0 | formerly smoked |  570 |\n",
       "| 0 | never smoked    | 1338 |\n",
       "| 0 | smokes          |  527 |\n",
       "| 0 | Unknown         | 1080 |\n",
       "| 1 | formerly smoked |   46 |\n",
       "| 1 | never smoked    |   65 |\n",
       "| 1 | smokes          |   31 |\n",
       "| 1 | Unknown         |   24 |\n",
       "\n"
      ],
      "text/plain": [
       "  stroke smoking_status  number_of_people\n",
       "1 0      formerly smoked  570            \n",
       "2 0      never smoked    1338            \n",
       "3 0      smokes           527            \n",
       "4 0      Unknown         1080            \n",
       "5 1      formerly smoked   46            \n",
       "6 1      never smoked      65            \n",
       "7 1      smokes            31            \n",
       "8 1      Unknown           24            "
      ]
     },
     "metadata": {},
     "output_type": "display_data"
    },
    {
     "name": "stderr",
     "output_type": "stream",
     "text": [
      "\u001b[1m\u001b[22m`summarise()` has grouped output by 'stroke'. You can override using the\n",
      "`.groups` argument.\n"
     ]
    },
    {
     "data": {
      "text/html": [
       "<table class=\"dataframe\">\n",
       "<caption>A grouped_df: 4 × 3</caption>\n",
       "<thead>\n",
       "\t<tr><th scope=col>stroke</th><th scope=col>heart_disease</th><th scope=col>number_of_people</th></tr>\n",
       "\t<tr><th scope=col>&lt;dbl&gt;</th><th scope=col>&lt;dbl&gt;</th><th scope=col>&lt;int&gt;</th></tr>\n",
       "</thead>\n",
       "<tbody>\n",
       "\t<tr><td>0</td><td>0</td><td>3362</td></tr>\n",
       "\t<tr><td>0</td><td>1</td><td> 153</td></tr>\n",
       "\t<tr><td>1</td><td>0</td><td> 136</td></tr>\n",
       "\t<tr><td>1</td><td>1</td><td>  30</td></tr>\n",
       "</tbody>\n",
       "</table>\n"
      ],
      "text/latex": [
       "A grouped\\_df: 4 × 3\n",
       "\\begin{tabular}{lll}\n",
       " stroke & heart\\_disease & number\\_of\\_people\\\\\n",
       " <dbl> & <dbl> & <int>\\\\\n",
       "\\hline\n",
       "\t 0 & 0 & 3362\\\\\n",
       "\t 0 & 1 &  153\\\\\n",
       "\t 1 & 0 &  136\\\\\n",
       "\t 1 & 1 &   30\\\\\n",
       "\\end{tabular}\n"
      ],
      "text/markdown": [
       "\n",
       "A grouped_df: 4 × 3\n",
       "\n",
       "| stroke &lt;dbl&gt; | heart_disease &lt;dbl&gt; | number_of_people &lt;int&gt; |\n",
       "|---|---|---|\n",
       "| 0 | 0 | 3362 |\n",
       "| 0 | 1 |  153 |\n",
       "| 1 | 0 |  136 |\n",
       "| 1 | 1 |   30 |\n",
       "\n"
      ],
      "text/plain": [
       "  stroke heart_disease number_of_people\n",
       "1 0      0             3362            \n",
       "2 0      1              153            \n",
       "3 1      0              136            \n",
       "4 1      1               30            "
      ]
     },
     "metadata": {},
     "output_type": "display_data"
    }
   ],
   "source": [
    "# the average glucose level of stroke/no stroke\n",
    "stroke_train |> \n",
    "group_by(stroke) |>\n",
    "summarize(avg_gluc = mean(avg_glucose_level))\n",
    "\n",
    "# the average bmi of stroke/no stroke\n",
    "stroke_train |> \n",
    "group_by(stroke) |>\n",
    "summarize(avg_BMI = mean(bmi, na.rm = TRUE))\n",
    "\n",
    "# the average age of stroke/no stroke\n",
    "stroke_train |>\n",
    "group_by(stroke) |>\n",
    "summarize(avg_age = mean(age))\n",
    "\n",
    "# the number of people for each smoking status of stroke/no stroke\n",
    "stroke_train |>\n",
    "group_by(stroke, smoking_status) |>\n",
    "summarize(number_of_people = n())\n",
    "\n",
    "# the number of people with/without heart disease\n",
    "stroke_train |>\n",
    "group_by(stroke, heart_disease) |>\n",
    "summarize(number_of_people = n())"
   ]
  },
  {
   "cell_type": "markdown",
   "id": "be831bf4-953e-47b3-a0f9-714c82891ba6",
   "metadata": {},
   "source": [
    "**Visualization of Data**"
   ]
  },
  {
   "cell_type": "code",
   "execution_count": 38,
   "id": "6354b119-a558-4a3d-be4c-0ea97b120b79",
   "metadata": {},
   "outputs": [
    {
     "data": {
      "image/png": "[encoded data removed]",
      "text/plain": [
       "plot without title"
      ]
     },
     "metadata": {
      "image/png": {
       "height": 420,
       "width": 420
      }
     },
     "output_type": "display_data"
    }
   ],
   "source": [
    "stroke_train_for_plot <- stroke_train |>\n",
    "    mutate(generalized_bmi = floor(floor(as.double(bmi))/10)*10) |>\n",
    "    mutate(stroke_or_not = as.character(stroke))\n",
    "\n",
    "plot <- stroke_train_for_plot |>\n",
    "    ggplot(aes(x = generalized_bmi, fill = stroke_or_not)) +\n",
    "    geom_bar(position = 'fill') +\n",
    "    labs(fill = 'Stroke or not', x = 'Body Mass Index', y = 'Proportion') +\n",
    "    scale_fill_discrete(labels = c('No', 'Yes'))\n",
    "plot"
   ]
  },
  {
   "cell_type": "markdown",
   "id": "922d0658",
   "metadata": {},
   "source": [
    "#### **Methods:**\n",
    "\n",
    "\n",
    "We will first standardize the numerical variables and convert the categorized variables to numerical values so that we can quantify their effect on the prediction result and makes all of the variables contribute equally to the outcome. \n",
    "\n",
    "Then we will split the database into two parts: the training set and the testing set by the ratio of 3:1. We also need to make sure that the two parts of the database have approximately the same percentage of different types of variables.\n",
    "\n",
    "Next, we will split the training set into 5 folds to apply cross-validation to choose the most suitable k-value with the highest accuracy.\n",
    "\n",
    "Finally, we will train the model again using the k-value determined and the testing set to evaluate the accuracy by a confusion matrix.\n",
    "In terms of visualizing the data, we will plot the data on a bar plot where the x-axis is age and the y-axis is whether or not the prediction is correct to measure our result visually.\n"
   ]
  },
  {
   "cell_type": "markdown",
   "id": "8c1b9d7b",
   "metadata": {},
   "source": [
    "#### **Expected outcomes and significance:**\n",
    "\n",
    "There are simply too many variables for us to consider using all of them. But if we were to expect outcomes, individuals that have a heart disease, smoke regularly, and maintain high average glucose levels are at most risk of a stroke.\n",
    "\n",
    "The analysis of the Stroke Prediction Dataset can potentially provide insights into the risk factors associated with strokes. By examining multiple clinical features, the researchers can identify the most significant predictors of stroke occurrence, and develop a model that accurately predicts the likelihood of a stroke occurring in an individual.\n",
    "\n",
    "The findings of such research can have significant implications for public health. Early detection and prevention can help reduce the number of fatalities associated with the condition. \n",
    "\n",
    "The analysis of the Stroke Prediction Dataset can also lead to future questions related to stroke prevention and treatment. For instance, the researchers can examine the effectiveness of existing stroke prevention measures and identify areas for improvement. Additionally, the findings can lead to the development of new treatment and prevention strategies that can further reduce the incidence of strokes."
   ]
  }
 ],
 "metadata": {
  "kernelspec": {
   "display_name": "R",
   "language": "R",
   "name": "ir"
  },
  "language_info": {
   "codemirror_mode": "r",
   "file_extension": ".r",
   "mimetype": "text/x-r-source",
   "name": "R",
   "pygments_lexer": "r",
   "version": "4.1.3"
  }
 },
 "nbformat": 4,
 "nbformat_minor": 5
}
