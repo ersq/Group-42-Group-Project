{
 "cells": [
  {
   "cell_type": "markdown",
   "id": "dc7c8f0c-351b-4c59-9812-704c172e9e5b",
   "metadata": {},
   "source": [
    "Title: Predicting the Chances of a Stroke"
   ]
  },
  {
   "cell_type": "markdown",
   "id": "01ce9b75-feaa-4c97-b880-24597652d015",
   "metadata": {},
   "source": [
    "Introduction: \n",
    "\n",
    "Strokes are serious life-threatening medical conditions that happens when the blood supply to part of the brain is cut off. It is imperative that strokes are met with immediate treatment to prevent brain damage. According to the World Health Organization (WHO) stroke is the 2nd leading cause of death globally, responsible for approximately 11% of total deaths. \n",
    "\n",
    "Our project intends to accurately predict the chances of a stroke occuring in individuals by examining a variety of input parameters.\n",
    "\n",
    "Stroke Prediction Dataset, the title of the dataset we chose for this project, was adapted from the kaggle data scientist fedesoriano. The dataset provides ten clinical features for predicting strokes: gender, age, hypertension, heart_disease, ever_married, work_type, residence_type, avg_glucose_level, bmi, and smoking_status.\n",
    "\n",
    "link to dataset: (https://www.kaggle.com/datasets/fedesoriano/stroke-prediction-dataset?resource=download)"
   ]
  },
  {
   "cell_type": "markdown",
   "id": "99128c1f-64e9-4337-a62d-39432b7dc71e",
   "metadata": {},
   "source": [
    "Preliminary exploratory data analysis:"
   ]
  },
  {
   "cell_type": "code",
   "execution_count": null,
   "id": "9eebb3a2-b9a3-4c30-8642-609649bb638f",
   "metadata": {},
   "outputs": [],
   "source": []
  },
  {
   "cell_type": "markdown",
   "id": "c7ec120d-c50d-4279-8b41-dcb54e4265ab",
   "metadata": {},
   "source": [
    "Methods:"
   ]
  },
  {
   "cell_type": "markdown",
   "id": "4d19979a-1da3-41a2-a29e-94c8f3a6b699",
   "metadata": {},
   "source": [
    "Expected outcomes and significance:\n",
    "\n",
    "There are simply too many variables to start out with to make a completely accurate prediction. But if we were to expect outcomes, individuals that have a heart disease, smoke regularly, and maintain high average glucose levels are at most risk of a stroke.\n",
    "\n",
    "These findings could give more guidance as how to accurately predict strokes in unsuspecting individuals. In other words, what factors should we be paying more attention to in regards to increasing stroke chances?\n",
    "\n",
    "This project can lead to future questions about what is the most important factor in stress volume."
   ]
  }
 ],
 "metadata": {
  "kernelspec": {
   "display_name": "R",
   "language": "R",
   "name": "ir"
  },
  "language_info": {
   "codemirror_mode": "r",
   "file_extension": ".r",
   "mimetype": "text/x-r-source",
   "name": "R",
   "pygments_lexer": "r",
   "version": "4.1.3"
  }
 },
 "nbformat": 4,
 "nbformat_minor": 5
}
